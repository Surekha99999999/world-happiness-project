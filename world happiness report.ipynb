{
 "cells": [
  {
   "cell_type": "code",
   "execution_count": 1,
   "id": "46820f19",
   "metadata": {},
   "outputs": [
    {
     "data": {
      "text/html": [
       "        <script type=\"text/javascript\">\n",
       "        window.PlotlyConfig = {MathJaxConfig: 'local'};\n",
       "        if (window.MathJax) {MathJax.Hub.Config({SVG: {font: \"STIX-Web\"}});}\n",
       "        if (typeof require !== 'undefined') {\n",
       "        require.undef(\"plotly\");\n",
       "        requirejs.config({\n",
       "            paths: {\n",
       "                'plotly': ['https://cdn.plot.ly/plotly-2.9.0.min']\n",
       "            }\n",
       "        });\n",
       "        require(['plotly'], function(Plotly) {\n",
       "            window._Plotly = Plotly;\n",
       "        });\n",
       "        }\n",
       "        </script>\n",
       "        "
      ]
     },
     "metadata": {},
     "output_type": "display_data"
    }
   ],
   "source": [
    "# Importing all the project pre-requisites\n",
    "import pandas as pd\n",
    "import numpy as np\n",
    "import seaborn as sb\n",
    "import matplotlib.pyplot as plt\n",
    "sb.set()\n",
    "\n",
    "# Import essential models and functions from sklearn\n",
    "from sklearn.model_selection import train_test_split\n",
    "from sklearn.model_selection import train_test_split, GridSearchCV\n",
    "from sklearn.linear_model import LinearRegression\n",
    "from sklearn.preprocessing import StandardScaler\n",
    "from sklearn import metrics\n",
    "from sklearn.metrics import confusion_matrix\n",
    "from sklearn.tree import export_graphviz\n",
    "import graphviz\n",
    "\n",
    "# Using Random Forest Classifier\n",
    "from sklearn.ensemble import RandomForestClassifier\n",
    "\n",
    "# Import essential models and functions from plotly\n",
    "import plotly\n",
    "import plotly.offline as py\n",
    "import plotly.graph_objs as go\n",
    "from plotly.offline import download_plotlyjs, init_notebook_mode, plot, iplot\n",
    "\n",
    "# Allows us to use Plotly offline\n",
    "init_notebook_mode(connected=True)"
   ]
  },
  {
   "cell_type": "code",
   "execution_count": 2,
   "id": "8bfcd6c4",
   "metadata": {},
   "outputs": [
    {
     "name": "stdout",
     "output_type": "stream",
     "text": [
      "Data type :  <class 'pandas.core.frame.DataFrame'>\n",
      "Data dims :  (156, 15)\n"
     ]
    }
   ],
   "source": [
    "data1=pd.read_csv(\"https://raw.githubusercontent.com/guptajay/world-happiness-report/master/data/factor_of_happiness2018.csv\")\n",
    "data2=pd.read_csv(\"https://raw.githubusercontent.com/guptajay/world-happiness-report/master/data/factor_of_happiness2018(2).csv\")\n",
    "\n",
    "print(\"Data type : \", type(data2))\n",
    "print(\"Data dims : \", data2.shape)"
   ]
  },
  {
   "cell_type": "code",
   "execution_count": 3,
   "id": "d4176238",
   "metadata": {},
   "outputs": [
    {
     "data": {
      "text/html": [
       "<div>\n",
       "<style scoped>\n",
       "    .dataframe tbody tr th:only-of-type {\n",
       "        vertical-align: middle;\n",
       "    }\n",
       "\n",
       "    .dataframe tbody tr th {\n",
       "        vertical-align: top;\n",
       "    }\n",
       "\n",
       "    .dataframe thead th {\n",
       "        text-align: right;\n",
       "    }\n",
       "</style>\n",
       "<table border=\"1\" class=\"dataframe\">\n",
       "  <thead>\n",
       "    <tr style=\"text-align: right;\">\n",
       "      <th></th>\n",
       "      <th>country</th>\n",
       "      <th>Region indicator</th>\n",
       "      <th>Life ladder, 2015-2017</th>\n",
       "      <th>Standard error, life ladder, 2015-2017</th>\n",
       "      <th>Log of GDP per person, 2015-2017</th>\n",
       "      <th>GDP per person, 2015-2017</th>\n",
       "      <th>Healthy life expectancy, 2015-2017</th>\n",
       "      <th>Social support, 2015-2017</th>\n",
       "      <th>Standard error, social support, 2015-2017</th>\n",
       "      <th>Freedom to make life choices, 2015-2017</th>\n",
       "      <th>Standard error, freedom to make life choices, 2015-2017</th>\n",
       "      <th>Generosity, 2015-2017, without adjustment for GDP per person</th>\n",
       "      <th>Standard error, generosity, 2015-2017</th>\n",
       "      <th>Perceptions of corruption, 2015-2017</th>\n",
       "      <th>Standard error, perceptions of corruption, 2015-2017</th>\n",
       "    </tr>\n",
       "  </thead>\n",
       "  <tbody>\n",
       "    <tr>\n",
       "      <th>0</th>\n",
       "      <td>Afghanistan</td>\n",
       "      <td>South Asia</td>\n",
       "      <td>3.631519</td>\n",
       "      <td>0.042360</td>\n",
       "      <td>7.462610</td>\n",
       "      <td>1741.687500</td>\n",
       "      <td>52.013329</td>\n",
       "      <td>0.525075</td>\n",
       "      <td>0.011119</td>\n",
       "      <td>0.445294</td>\n",
       "      <td>0.011449</td>\n",
       "      <td>0.179054</td>\n",
       "      <td>0.008331</td>\n",
       "      <td>0.879705</td>\n",
       "      <td>0.006009</td>\n",
       "    </tr>\n",
       "    <tr>\n",
       "      <th>1</th>\n",
       "      <td>Albania</td>\n",
       "      <td>Central and Eastern Europe</td>\n",
       "      <td>4.586040</td>\n",
       "      <td>0.055813</td>\n",
       "      <td>9.338126</td>\n",
       "      <td>11363.095700</td>\n",
       "      <td>68.871552</td>\n",
       "      <td>0.639576</td>\n",
       "      <td>0.010078</td>\n",
       "      <td>0.726340</td>\n",
       "      <td>0.009421</td>\n",
       "      <td>0.259975</td>\n",
       "      <td>0.009048</td>\n",
       "      <td>0.886778</td>\n",
       "      <td>0.005775</td>\n",
       "    </tr>\n",
       "    <tr>\n",
       "      <th>2</th>\n",
       "      <td>Algeria</td>\n",
       "      <td>Middle East and North Africa</td>\n",
       "      <td>5.294638</td>\n",
       "      <td>0.057087</td>\n",
       "      <td>9.540703</td>\n",
       "      <td>13914.723630</td>\n",
       "      <td>65.604858</td>\n",
       "      <td>0.776977</td>\n",
       "      <td>0.011171</td>\n",
       "      <td>0.439177</td>\n",
       "      <td>0.019161</td>\n",
       "      <td>0.128988</td>\n",
       "      <td>0.012327</td>\n",
       "      <td>0.698343</td>\n",
       "      <td>0.019293</td>\n",
       "    </tr>\n",
       "    <tr>\n",
       "      <th>3</th>\n",
       "      <td>Angola</td>\n",
       "      <td>Sub-Saharan Africa</td>\n",
       "      <td>3.794838</td>\n",
       "      <td>0.079919</td>\n",
       "      <td>8.741957</td>\n",
       "      <td>6260.132813</td>\n",
       "      <td>52.460709</td>\n",
       "      <td>0.765275</td>\n",
       "      <td>0.015744</td>\n",
       "      <td>0.374173</td>\n",
       "      <td>0.018346</td>\n",
       "      <td>0.106829</td>\n",
       "      <td>0.011499</td>\n",
       "      <td>0.833540</td>\n",
       "      <td>0.016014</td>\n",
       "    </tr>\n",
       "    <tr>\n",
       "      <th>4</th>\n",
       "      <td>Argentina</td>\n",
       "      <td>Latin America and Caribbean</td>\n",
       "      <td>6.387958</td>\n",
       "      <td>0.049497</td>\n",
       "      <td>9.842001</td>\n",
       "      <td>18807.310550</td>\n",
       "      <td>67.398483</td>\n",
       "      <td>0.905565</td>\n",
       "      <td>0.006363</td>\n",
       "      <td>0.853390</td>\n",
       "      <td>0.007526</td>\n",
       "      <td>0.163174</td>\n",
       "      <td>0.007777</td>\n",
       "      <td>0.847882</td>\n",
       "      <td>0.006881</td>\n",
       "    </tr>\n",
       "  </tbody>\n",
       "</table>\n",
       "</div>"
      ],
      "text/plain": [
       "       country              Region indicator  Life ladder, 2015-2017  \\\n",
       "0  Afghanistan                    South Asia                3.631519   \n",
       "1      Albania    Central and Eastern Europe                4.586040   \n",
       "2      Algeria  Middle East and North Africa                5.294638   \n",
       "3       Angola            Sub-Saharan Africa                3.794838   \n",
       "4    Argentina   Latin America and Caribbean                6.387958   \n",
       "\n",
       "   Standard error, life ladder, 2015-2017  Log of GDP per person, 2015-2017  \\\n",
       "0                                0.042360                          7.462610   \n",
       "1                                0.055813                          9.338126   \n",
       "2                                0.057087                          9.540703   \n",
       "3                                0.079919                          8.741957   \n",
       "4                                0.049497                          9.842001   \n",
       "\n",
       "   GDP per person, 2015-2017  Healthy life expectancy, 2015-2017  \\\n",
       "0                1741.687500                           52.013329   \n",
       "1               11363.095700                           68.871552   \n",
       "2               13914.723630                           65.604858   \n",
       "3                6260.132813                           52.460709   \n",
       "4               18807.310550                           67.398483   \n",
       "\n",
       "   Social support, 2015-2017  Standard error, social support, 2015-2017  \\\n",
       "0                   0.525075                                   0.011119   \n",
       "1                   0.639576                                   0.010078   \n",
       "2                   0.776977                                   0.011171   \n",
       "3                   0.765275                                   0.015744   \n",
       "4                   0.905565                                   0.006363   \n",
       "\n",
       "   Freedom to make life choices, 2015-2017  \\\n",
       "0                                 0.445294   \n",
       "1                                 0.726340   \n",
       "2                                 0.439177   \n",
       "3                                 0.374173   \n",
       "4                                 0.853390   \n",
       "\n",
       "   Standard error, freedom to make life choices, 2015-2017  \\\n",
       "0                                           0.011449         \n",
       "1                                           0.009421         \n",
       "2                                           0.019161         \n",
       "3                                           0.018346         \n",
       "4                                           0.007526         \n",
       "\n",
       "   Generosity, 2015-2017, without adjustment for GDP per person  \\\n",
       "0                                           0.179054              \n",
       "1                                           0.259975              \n",
       "2                                           0.128988              \n",
       "3                                           0.106829              \n",
       "4                                           0.163174              \n",
       "\n",
       "   Standard error, generosity, 2015-2017  \\\n",
       "0                               0.008331   \n",
       "1                               0.009048   \n",
       "2                               0.012327   \n",
       "3                               0.011499   \n",
       "4                               0.007777   \n",
       "\n",
       "   Perceptions of corruption, 2015-2017  \\\n",
       "0                              0.879705   \n",
       "1                              0.886778   \n",
       "2                              0.698343   \n",
       "3                              0.833540   \n",
       "4                              0.847882   \n",
       "\n",
       "   Standard error, perceptions of corruption, 2015-2017  \n",
       "0                                           0.006009     \n",
       "1                                           0.005775     \n",
       "2                                           0.019293     \n",
       "3                                           0.016014     \n",
       "4                                           0.006881     "
      ]
     },
     "execution_count": 3,
     "metadata": {},
     "output_type": "execute_result"
    }
   ],
   "source": [
    "# Get the overview of the data\n",
    "data2.head()"
   ]
  },
  {
   "cell_type": "code",
   "execution_count": 4,
   "id": "0c561bdc",
   "metadata": {},
   "outputs": [
    {
     "name": "stdout",
     "output_type": "stream",
     "text": [
      "<class 'pandas.core.frame.DataFrame'>\n",
      "RangeIndex: 156 entries, 0 to 155\n",
      "Data columns (total 15 columns):\n",
      " #   Column                                                        Non-Null Count  Dtype  \n",
      "---  ------                                                        --------------  -----  \n",
      " 0   country                                                       156 non-null    object \n",
      " 1   Region indicator                                              156 non-null    object \n",
      " 2   Life ladder, 2015-2017                                        156 non-null    float64\n",
      " 3   Standard error, life ladder, 2015-2017                        156 non-null    float64\n",
      " 4   Log of GDP per person, 2015-2017                              152 non-null    float64\n",
      " 5   GDP per person, 2015-2017                                     152 non-null    float64\n",
      " 6   Healthy life expectancy, 2015-2017                            153 non-null    float64\n",
      " 7   Social support, 2015-2017                                     155 non-null    float64\n",
      " 8   Standard error, social support, 2015-2017                     155 non-null    float64\n",
      " 9   Freedom to make life choices, 2015-2017                       155 non-null    float64\n",
      " 10  Standard error, freedom to make life choices, 2015-2017       155 non-null    float64\n",
      " 11  Generosity, 2015-2017, without adjustment for GDP per person  155 non-null    float64\n",
      " 12  Standard error, generosity, 2015-2017                         155 non-null    float64\n",
      " 13  Perceptions of corruption, 2015-2017                          148 non-null    float64\n",
      " 14  Standard error, perceptions of corruption, 2015-2017          148 non-null    float64\n",
      "dtypes: float64(13), object(2)\n",
      "memory usage: 18.4+ KB\n"
     ]
    }
   ],
   "source": [
    "# Information about the Variables\n",
    "data2.info()"
   ]
  },
  {
   "cell_type": "code",
   "execution_count": 5,
   "id": "4b3efdfb",
   "metadata": {},
   "outputs": [
    {
     "name": "stderr",
     "output_type": "stream",
     "text": [
      "<ipython-input-5-6fb814b7b5dd>:11: FutureWarning:\n",
      "\n",
      "The default value of regex will change from True to False in a future version. In addition, single character regular expressions will*not* be treated as literal strings when regex=True.\n",
      "\n",
      "<ipython-input-5-6fb814b7b5dd>:14: FutureWarning:\n",
      "\n",
      "The default value of regex will change from True to False in a future version. In addition, single character regular expressions will*not* be treated as literal strings when regex=True.\n",
      "\n"
     ]
    }
   ],
   "source": [
    "# Sort the dataset by Countries instead of Happiness Score\n",
    "data1.sort_values(by = [\"Country\"], inplace = True, ascending = True)\n",
    "data1 = data1.reset_index(drop=True)\n",
    "data1 = pd.DataFrame(data1[:156])\n",
    "data = pd.concat([data1,data2],axis=1)\n",
    "\n",
    "# Convert all Variable Names to UPPERCASE\n",
    "data.columns = data.columns.str.upper()\n",
    "\n",
    "# Remove all spaces and dots from Variable Names\n",
    "data.columns = data.columns.str.replace(\".\",\"\")\n",
    "data.columns = data.columns.str.replace(\" \",\"_\")\n",
    "data.columns = data.columns.str.replace(\":\",\"\")\n",
    "data.columns = data.columns.str.replace(\"+\",\"\")\n",
    "data.columns = data.columns.str.replace(\",\",\"\")"
   ]
  },
  {
   "cell_type": "code",
   "execution_count": 6,
   "id": "468528c0",
   "metadata": {},
   "outputs": [],
   "source": [
    "# Extracting the required variables from the dataframe\n",
    "extracts = [\"COUNTRY\", \"HAPPINESS_SCORE\", \"LOG_OF_GDP_PER_PERSON_2015-2017\", \"GDP_PER_PERSON_2015-2017\", \"HEALTHY_LIFE_EXPECTANCY_2015-2017\", \\\n",
    "            \"SOCIAL_SUPPORT_2015-2017\", \"FREEDOM_TO_MAKE_LIFE_CHOICES_2015-2017\", \\\n",
    "            \"GENEROSITY_2015-2017_WITHOUT_ADJUSTMENT_FOR_GDP_PER_PERSON\", \"PERCEPTIONS_OF_CORRUPTION_2015-2017\"]\n",
    "\n",
    "data = pd.DataFrame(data[extracts])"
   ]
  },
  {
   "cell_type": "code",
   "execution_count": 7,
   "id": "527f07fb",
   "metadata": {},
   "outputs": [],
   "source": [
    "# Rename the columns of the dataframe for easier readability\n",
    "data.rename(columns = {'GDP_PER_PERSON_2015-2017': 'GDP_PER_PERSON'}, inplace = True)\n",
    "data.rename(columns = {'LOG_OF_GDP_PER_PERSON_2015-2017': 'LOG_OF_GDP_PER_PERSON'}, inplace = True)\n",
    "data.rename(columns = {'FREEDOM_TO_MAKE_LIFE_CHOICES_2015-2017': 'FREEDOM'}, inplace = True)\n",
    "data.rename(columns = {'HEALTHY_LIFE_EXPECTANCY_2015-2017': 'HEALTHY_LIFE_EXPECTANCY'}, inplace = True)\n",
    "data.rename(columns = {'SOCIAL_SUPPORT_2015-2017': 'SOCIAL_SUPPORT'}, inplace = True)\n",
    "data.rename(columns = {'GENEROSITY_2015-2017_WITHOUT_ADJUSTMENT_FOR_GDP_PER_PERSON': 'GENEROSITY'}, inplace = True)\n",
    "data.rename(columns = {'PERCEPTIONS_OF_CORRUPTION_2015-2017': 'PERCEPTIONS_OF_CORRUPTION'}, inplace = True)"
   ]
  },
  {
   "cell_type": "code",
   "execution_count": 8,
   "id": "243f4af4",
   "metadata": {},
   "outputs": [
    {
     "data": {
      "text/html": [
       "<div>\n",
       "<style scoped>\n",
       "    .dataframe tbody tr th:only-of-type {\n",
       "        vertical-align: middle;\n",
       "    }\n",
       "\n",
       "    .dataframe tbody tr th {\n",
       "        vertical-align: top;\n",
       "    }\n",
       "\n",
       "    .dataframe thead th {\n",
       "        text-align: right;\n",
       "    }\n",
       "</style>\n",
       "<table border=\"1\" class=\"dataframe\">\n",
       "  <thead>\n",
       "    <tr style=\"text-align: right;\">\n",
       "      <th></th>\n",
       "      <th>COUNTRY</th>\n",
       "      <th>HAPPINESS_SCORE</th>\n",
       "      <th>LOG_OF_GDP_PER_PERSON</th>\n",
       "      <th>GDP_PER_PERSON</th>\n",
       "      <th>HEALTHY_LIFE_EXPECTANCY</th>\n",
       "      <th>SOCIAL_SUPPORT</th>\n",
       "      <th>FREEDOM</th>\n",
       "      <th>GENEROSITY</th>\n",
       "      <th>PERCEPTIONS_OF_CORRUPTION</th>\n",
       "    </tr>\n",
       "  </thead>\n",
       "  <tbody>\n",
       "    <tr>\n",
       "      <th>0</th>\n",
       "      <td>Afghanistan</td>\n",
       "      <td>3.632</td>\n",
       "      <td>7.462610</td>\n",
       "      <td>1741.687500</td>\n",
       "      <td>52.013329</td>\n",
       "      <td>0.525075</td>\n",
       "      <td>0.445294</td>\n",
       "      <td>0.179054</td>\n",
       "      <td>0.879705</td>\n",
       "    </tr>\n",
       "    <tr>\n",
       "      <th>1</th>\n",
       "      <td>Albania</td>\n",
       "      <td>4.586</td>\n",
       "      <td>9.338126</td>\n",
       "      <td>11363.095700</td>\n",
       "      <td>68.871552</td>\n",
       "      <td>0.639576</td>\n",
       "      <td>0.726340</td>\n",
       "      <td>0.259975</td>\n",
       "      <td>0.886778</td>\n",
       "    </tr>\n",
       "    <tr>\n",
       "      <th>2</th>\n",
       "      <td>Algeria</td>\n",
       "      <td>5.295</td>\n",
       "      <td>9.540703</td>\n",
       "      <td>13914.723630</td>\n",
       "      <td>65.604858</td>\n",
       "      <td>0.776977</td>\n",
       "      <td>0.439177</td>\n",
       "      <td>0.128988</td>\n",
       "      <td>0.698343</td>\n",
       "    </tr>\n",
       "    <tr>\n",
       "      <th>3</th>\n",
       "      <td>Angola</td>\n",
       "      <td>3.795</td>\n",
       "      <td>8.741957</td>\n",
       "      <td>6260.132813</td>\n",
       "      <td>52.460709</td>\n",
       "      <td>0.765275</td>\n",
       "      <td>0.374173</td>\n",
       "      <td>0.106829</td>\n",
       "      <td>0.833540</td>\n",
       "    </tr>\n",
       "    <tr>\n",
       "      <th>4</th>\n",
       "      <td>Argentina</td>\n",
       "      <td>6.388</td>\n",
       "      <td>9.842001</td>\n",
       "      <td>18807.310550</td>\n",
       "      <td>67.398483</td>\n",
       "      <td>0.905565</td>\n",
       "      <td>0.853390</td>\n",
       "      <td>0.163174</td>\n",
       "      <td>0.847882</td>\n",
       "    </tr>\n",
       "  </tbody>\n",
       "</table>\n",
       "</div>"
      ],
      "text/plain": [
       "       COUNTRY  HAPPINESS_SCORE  LOG_OF_GDP_PER_PERSON  GDP_PER_PERSON  \\\n",
       "0  Afghanistan            3.632               7.462610     1741.687500   \n",
       "1      Albania            4.586               9.338126    11363.095700   \n",
       "2      Algeria            5.295               9.540703    13914.723630   \n",
       "3       Angola            3.795               8.741957     6260.132813   \n",
       "4    Argentina            6.388               9.842001    18807.310550   \n",
       "\n",
       "   HEALTHY_LIFE_EXPECTANCY  SOCIAL_SUPPORT   FREEDOM  GENEROSITY  \\\n",
       "0                52.013329        0.525075  0.445294    0.179054   \n",
       "1                68.871552        0.639576  0.726340    0.259975   \n",
       "2                65.604858        0.776977  0.439177    0.128988   \n",
       "3                52.460709        0.765275  0.374173    0.106829   \n",
       "4                67.398483        0.905565  0.853390    0.163174   \n",
       "\n",
       "   PERCEPTIONS_OF_CORRUPTION  \n",
       "0                   0.879705  \n",
       "1                   0.886778  \n",
       "2                   0.698343  \n",
       "3                   0.833540  \n",
       "4                   0.847882  "
      ]
     },
     "execution_count": 8,
     "metadata": {},
     "output_type": "execute_result"
    }
   ],
   "source": [
    "# Remove duplicate columns (if any)\n",
    "data = data.loc[:,~data.columns.duplicated()]\n",
    "data.head()"
   ]
  },
  {
   "cell_type": "code",
   "execution_count": 9,
   "id": "f8176c1c",
   "metadata": {},
   "outputs": [
    {
     "data": {
      "application/vnd.plotly.v1+json": {
       "config": {
        "linkText": "Export to plot.ly",
        "plotlyServerURL": "https://plot.ly",
        "showLink": false
       },
       "data": [
        {
         "colorbar": {
          "title": {
           "text": "Happiness"
          }
         },
         "locationmode": "country names",
         "locations": [
          "Afghanistan",
          "Albania",
          "Algeria",
          "Angola",
          "Argentina",
          "Armenia",
          "Australia",
          "Austria",
          "Azerbaijan",
          "Bahrain",
          "Bangladesh",
          "Belarus",
          "Belgium",
          "Belize",
          "Benin",
          "Bhutan",
          "Bolivia",
          "Bosnia and Herzegovina",
          "Botswana",
          "Brazil",
          "Bulgaria",
          "Burkina Faso",
          "Burundi",
          "Cambodia",
          "Cameroon",
          "Canada",
          "Central African Republic",
          "Chad",
          "Chile",
          "China",
          "Colombia",
          "Congo (Brazzaville)",
          "Congo (Kinshasa)",
          "Costa Rica",
          "Croatia",
          "Cyprus",
          "Czech Republic",
          "Denmark",
          "Dominican Republic",
          "Ecuador",
          "Egypt",
          "El Salvador",
          "Estonia",
          "Ethiopia",
          "Finland",
          "France",
          "Gabon",
          "Georgia",
          "Germany",
          "Ghana",
          "Greece",
          "Guatemala",
          "Guinea",
          "Haiti",
          "Honduras",
          "Hong Kong SAR, China",
          "Hungary",
          "Iceland",
          "India",
          "Indonesia",
          "Iran",
          "Iraq",
          "Ireland",
          "Israel",
          "Italy",
          "Ivory Coast",
          "Jamaica",
          "Japan",
          "Jordan",
          "Kazakhstan",
          "Kenya",
          "Kosovo",
          "Kuwait",
          "Kyrgyzstan",
          "Laos",
          "Latvia",
          "Lebanon",
          "Lesotho",
          "Liberia",
          "Libya",
          "Lithuania",
          "Luxembourg",
          "Macedonia",
          "Madagascar",
          "Malawi",
          "Malaysia",
          "Mali",
          "Malta",
          "Mauritania",
          "Mauritius",
          "Mexico",
          "Moldova",
          "Mongolia",
          "Montenegro",
          "Morocco",
          "Mozambique",
          "Myanmar",
          "Namibia",
          "Nepal",
          "Netherlands",
          "New Zealand",
          "Nicaragua",
          "Niger",
          "Nigeria",
          "Northern Cyprus",
          "Norway",
          "Pakistan",
          "Palestinian Territories",
          "Panama",
          "Paraguay",
          "Peru",
          "Philippines",
          "Poland",
          "Portugal",
          "Qatar",
          "Romania",
          "Russia",
          "Rwanda",
          "Saudi Arabia",
          "Senegal",
          "Serbia",
          "Sierra Leone",
          "Singapore",
          "Slovakia",
          "Slovenia",
          "Somalia",
          "South Africa",
          "South Korea",
          "South Sudan",
          "Spain",
          "Sri Lanka",
          "Sudan",
          "Sweden",
          "Switzerland",
          "Syria",
          "Taiwan Province of China",
          "Tajikistan",
          "Tanzania",
          "Thailand",
          "Togo",
          "Trinidad & Tobago",
          "Tunisia",
          "Turkey",
          "Turkmenistan",
          "Uganda",
          "Ukraine",
          "United Arab Emirates",
          "United Kingdom",
          "United States",
          "Uruguay",
          "Uzbekistan",
          "Venezuela",
          "Vietnam",
          "Yemen",
          "Zambia",
          "Zimbabwe"
         ],
         "text": [
          "Afghanistan",
          "Albania",
          "Algeria",
          "Angola",
          "Argentina",
          "Armenia",
          "Australia",
          "Austria",
          "Azerbaijan",
          "Bahrain",
          "Bangladesh",
          "Belarus",
          "Belgium",
          "Belize",
          "Benin",
          "Bhutan",
          "Bolivia",
          "Bosnia and Herzegovina",
          "Botswana",
          "Brazil",
          "Bulgaria",
          "Burkina Faso",
          "Burundi",
          "Cambodia",
          "Cameroon",
          "Canada",
          "Central African Republic",
          "Chad",
          "Chile",
          "China",
          "Colombia",
          "Congo (Brazzaville)",
          "Congo (Kinshasa)",
          "Costa Rica",
          "Croatia",
          "Cyprus",
          "Czech Republic",
          "Denmark",
          "Dominican Republic",
          "Ecuador",
          "Egypt",
          "El Salvador",
          "Estonia",
          "Ethiopia",
          "Finland",
          "France",
          "Gabon",
          "Georgia",
          "Germany",
          "Ghana",
          "Greece",
          "Guatemala",
          "Guinea",
          "Haiti",
          "Honduras",
          "Hong Kong SAR, China",
          "Hungary",
          "Iceland",
          "India",
          "Indonesia",
          "Iran",
          "Iraq",
          "Ireland",
          "Israel",
          "Italy",
          "Ivory Coast",
          "Jamaica",
          "Japan",
          "Jordan",
          "Kazakhstan",
          "Kenya",
          "Kosovo",
          "Kuwait",
          "Kyrgyzstan",
          "Laos",
          "Latvia",
          "Lebanon",
          "Lesotho",
          "Liberia",
          "Libya",
          "Lithuania",
          "Luxembourg",
          "Macedonia",
          "Madagascar",
          "Malawi",
          "Malaysia",
          "Mali",
          "Malta",
          "Mauritania",
          "Mauritius",
          "Mexico",
          "Moldova",
          "Mongolia",
          "Montenegro",
          "Morocco",
          "Mozambique",
          "Myanmar",
          "Namibia",
          "Nepal",
          "Netherlands",
          "New Zealand",
          "Nicaragua",
          "Niger",
          "Nigeria",
          "Northern Cyprus",
          "Norway",
          "Pakistan",
          "Palestinian Territories",
          "Panama",
          "Paraguay",
          "Peru",
          "Philippines",
          "Poland",
          "Portugal",
          "Qatar",
          "Romania",
          "Russia",
          "Rwanda",
          "Saudi Arabia",
          "Senegal",
          "Serbia",
          "Sierra Leone",
          "Singapore",
          "Slovakia",
          "Slovenia",
          "Somalia",
          "South Africa",
          "South Korea",
          "South Sudan",
          "Spain",
          "Sri Lanka",
          "Sudan",
          "Sweden",
          "Switzerland",
          "Syria",
          "Taiwan Province of China",
          "Tajikistan",
          "Tanzania",
          "Thailand",
          "Togo",
          "Trinidad & Tobago",
          "Tunisia",
          "Turkey",
          "Turkmenistan",
          "Uganda",
          "Ukraine",
          "United Arab Emirates",
          "United Kingdom",
          "United States",
          "Uruguay",
          "Uzbekistan",
          "Venezuela",
          "Vietnam",
          "Yemen",
          "Zambia",
          "Zimbabwe"
         ],
         "type": "choropleth",
         "z": [
          3.632,
          4.586,
          5.295,
          3.795,
          6.388,
          4.321,
          7.272,
          7.139,
          5.201,
          6.105,
          4.5,
          5.483,
          6.927,
          5.956,
          4.141,
          5.082,
          5.752,
          5.129,
          3.59,
          6.419,
          4.933,
          4.424,
          2.905,
          4.433,
          4.975,
          7.328,
          3.083,
          4.301,
          6.476,
          5.246,
          6.26,
          4.559,
          4.245,
          7.072,
          5.321,
          5.762,
          6.711,
          7.555,
          5.302,
          5.973,
          4.419,
          6.167,
          5.739,
          4.35,
          7.632,
          6.489,
          4.758,
          4.34,
          6.965,
          4.657,
          5.358,
          6.382,
          3.964,
          3.582,
          5.504,
          5.43,
          5.62,
          7.495,
          4.19,
          5.093,
          4.707,
          4.456,
          6.977,
          7.19,
          6,
          4.671,
          5.89,
          5.915,
          5.161,
          5.79,
          4.41,
          5.662,
          6.083,
          5.131,
          4.623,
          5.933,
          5.199,
          3.808,
          3.495,
          5.566,
          5.952,
          6.91,
          5.185,
          3.774,
          3.587,
          6.322,
          4.447,
          6.627,
          4.356,
          5.891,
          6.488,
          5.64,
          5.125,
          5.347,
          5.254,
          4.417,
          4.308,
          4.441,
          4.88,
          7.441,
          7.324,
          6.141,
          4.166,
          5.155,
          5.835,
          7.594,
          5.472,
          4.743,
          6.43,
          5.681,
          5.663,
          5.524,
          6.123,
          5.41,
          6.374,
          5.945,
          5.81,
          3.408,
          6.371,
          4.631,
          5.398,
          4.571,
          6.343,
          6.173,
          5.948,
          4.982,
          4.724,
          5.875,
          3.254,
          6.31,
          4.471,
          4.139,
          7.314,
          7.487,
          3.462,
          6.441,
          5.352,
          3.303,
          6.072,
          3.999,
          6.192,
          4.592,
          5.483,
          5.636,
          4.161,
          4.103,
          6.774,
          6.814,
          6.886,
          6.379,
          6.096,
          4.806,
          5.103,
          3.355,
          4.377,
          3.692
         ]
        }
       ],
       "layout": {
        "geo": {
         "projection": {
          "type": "mercator"
         },
         "showframe": false
        },
        "template": {
         "data": {
          "bar": [
           {
            "error_x": {
             "color": "#2a3f5f"
            },
            "error_y": {
             "color": "#2a3f5f"
            },
            "marker": {
             "line": {
              "color": "#E5ECF6",
              "width": 0.5
             },
             "pattern": {
              "fillmode": "overlay",
              "size": 10,
              "solidity": 0.2
             }
            },
            "type": "bar"
           }
          ],
          "barpolar": [
           {
            "marker": {
             "line": {
              "color": "#E5ECF6",
              "width": 0.5
             },
             "pattern": {
              "fillmode": "overlay",
              "size": 10,
              "solidity": 0.2
             }
            },
            "type": "barpolar"
           }
          ],
          "carpet": [
           {
            "aaxis": {
             "endlinecolor": "#2a3f5f",
             "gridcolor": "white",
             "linecolor": "white",
             "minorgridcolor": "white",
             "startlinecolor": "#2a3f5f"
            },
            "baxis": {
             "endlinecolor": "#2a3f5f",
             "gridcolor": "white",
             "linecolor": "white",
             "minorgridcolor": "white",
             "startlinecolor": "#2a3f5f"
            },
            "type": "carpet"
           }
          ],
          "choropleth": [
           {
            "colorbar": {
             "outlinewidth": 0,
             "ticks": ""
            },
            "type": "choropleth"
           }
          ],
          "contour": [
           {
            "colorbar": {
             "outlinewidth": 0,
             "ticks": ""
            },
            "colorscale": [
             [
              0,
              "#0d0887"
             ],
             [
              0.1111111111111111,
              "#46039f"
             ],
             [
              0.2222222222222222,
              "#7201a8"
             ],
             [
              0.3333333333333333,
              "#9c179e"
             ],
             [
              0.4444444444444444,
              "#bd3786"
             ],
             [
              0.5555555555555556,
              "#d8576b"
             ],
             [
              0.6666666666666666,
              "#ed7953"
             ],
             [
              0.7777777777777778,
              "#fb9f3a"
             ],
             [
              0.8888888888888888,
              "#fdca26"
             ],
             [
              1,
              "#f0f921"
             ]
            ],
            "type": "contour"
           }
          ],
          "contourcarpet": [
           {
            "colorbar": {
             "outlinewidth": 0,
             "ticks": ""
            },
            "type": "contourcarpet"
           }
          ],
          "heatmap": [
           {
            "colorbar": {
             "outlinewidth": 0,
             "ticks": ""
            },
            "colorscale": [
             [
              0,
              "#0d0887"
             ],
             [
              0.1111111111111111,
              "#46039f"
             ],
             [
              0.2222222222222222,
              "#7201a8"
             ],
             [
              0.3333333333333333,
              "#9c179e"
             ],
             [
              0.4444444444444444,
              "#bd3786"
             ],
             [
              0.5555555555555556,
              "#d8576b"
             ],
             [
              0.6666666666666666,
              "#ed7953"
             ],
             [
              0.7777777777777778,
              "#fb9f3a"
             ],
             [
              0.8888888888888888,
              "#fdca26"
             ],
             [
              1,
              "#f0f921"
             ]
            ],
            "type": "heatmap"
           }
          ],
          "heatmapgl": [
           {
            "colorbar": {
             "outlinewidth": 0,
             "ticks": ""
            },
            "colorscale": [
             [
              0,
              "#0d0887"
             ],
             [
              0.1111111111111111,
              "#46039f"
             ],
             [
              0.2222222222222222,
              "#7201a8"
             ],
             [
              0.3333333333333333,
              "#9c179e"
             ],
             [
              0.4444444444444444,
              "#bd3786"
             ],
             [
              0.5555555555555556,
              "#d8576b"
             ],
             [
              0.6666666666666666,
              "#ed7953"
             ],
             [
              0.7777777777777778,
              "#fb9f3a"
             ],
             [
              0.8888888888888888,
              "#fdca26"
             ],
             [
              1,
              "#f0f921"
             ]
            ],
            "type": "heatmapgl"
           }
          ],
          "histogram": [
           {
            "marker": {
             "pattern": {
              "fillmode": "overlay",
              "size": 10,
              "solidity": 0.2
             }
            },
            "type": "histogram"
           }
          ],
          "histogram2d": [
           {
            "colorbar": {
             "outlinewidth": 0,
             "ticks": ""
            },
            "colorscale": [
             [
              0,
              "#0d0887"
             ],
             [
              0.1111111111111111,
              "#46039f"
             ],
             [
              0.2222222222222222,
              "#7201a8"
             ],
             [
              0.3333333333333333,
              "#9c179e"
             ],
             [
              0.4444444444444444,
              "#bd3786"
             ],
             [
              0.5555555555555556,
              "#d8576b"
             ],
             [
              0.6666666666666666,
              "#ed7953"
             ],
             [
              0.7777777777777778,
              "#fb9f3a"
             ],
             [
              0.8888888888888888,
              "#fdca26"
             ],
             [
              1,
              "#f0f921"
             ]
            ],
            "type": "histogram2d"
           }
          ],
          "histogram2dcontour": [
           {
            "colorbar": {
             "outlinewidth": 0,
             "ticks": ""
            },
            "colorscale": [
             [
              0,
              "#0d0887"
             ],
             [
              0.1111111111111111,
              "#46039f"
             ],
             [
              0.2222222222222222,
              "#7201a8"
             ],
             [
              0.3333333333333333,
              "#9c179e"
             ],
             [
              0.4444444444444444,
              "#bd3786"
             ],
             [
              0.5555555555555556,
              "#d8576b"
             ],
             [
              0.6666666666666666,
              "#ed7953"
             ],
             [
              0.7777777777777778,
              "#fb9f3a"
             ],
             [
              0.8888888888888888,
              "#fdca26"
             ],
             [
              1,
              "#f0f921"
             ]
            ],
            "type": "histogram2dcontour"
           }
          ],
          "mesh3d": [
           {
            "colorbar": {
             "outlinewidth": 0,
             "ticks": ""
            },
            "type": "mesh3d"
           }
          ],
          "parcoords": [
           {
            "line": {
             "colorbar": {
              "outlinewidth": 0,
              "ticks": ""
             }
            },
            "type": "parcoords"
           }
          ],
          "pie": [
           {
            "automargin": true,
            "type": "pie"
           }
          ],
          "scatter": [
           {
            "marker": {
             "colorbar": {
              "outlinewidth": 0,
              "ticks": ""
             }
            },
            "type": "scatter"
           }
          ],
          "scatter3d": [
           {
            "line": {
             "colorbar": {
              "outlinewidth": 0,
              "ticks": ""
             }
            },
            "marker": {
             "colorbar": {
              "outlinewidth": 0,
              "ticks": ""
             }
            },
            "type": "scatter3d"
           }
          ],
          "scattercarpet": [
           {
            "marker": {
             "colorbar": {
              "outlinewidth": 0,
              "ticks": ""
             }
            },
            "type": "scattercarpet"
           }
          ],
          "scattergeo": [
           {
            "marker": {
             "colorbar": {
              "outlinewidth": 0,
              "ticks": ""
             }
            },
            "type": "scattergeo"
           }
          ],
          "scattergl": [
           {
            "marker": {
             "colorbar": {
              "outlinewidth": 0,
              "ticks": ""
             }
            },
            "type": "scattergl"
           }
          ],
          "scattermapbox": [
           {
            "marker": {
             "colorbar": {
              "outlinewidth": 0,
              "ticks": ""
             }
            },
            "type": "scattermapbox"
           }
          ],
          "scatterpolar": [
           {
            "marker": {
             "colorbar": {
              "outlinewidth": 0,
              "ticks": ""
             }
            },
            "type": "scatterpolar"
           }
          ],
          "scatterpolargl": [
           {
            "marker": {
             "colorbar": {
              "outlinewidth": 0,
              "ticks": ""
             }
            },
            "type": "scatterpolargl"
           }
          ],
          "scatterternary": [
           {
            "marker": {
             "colorbar": {
              "outlinewidth": 0,
              "ticks": ""
             }
            },
            "type": "scatterternary"
           }
          ],
          "surface": [
           {
            "colorbar": {
             "outlinewidth": 0,
             "ticks": ""
            },
            "colorscale": [
             [
              0,
              "#0d0887"
             ],
             [
              0.1111111111111111,
              "#46039f"
             ],
             [
              0.2222222222222222,
              "#7201a8"
             ],
             [
              0.3333333333333333,
              "#9c179e"
             ],
             [
              0.4444444444444444,
              "#bd3786"
             ],
             [
              0.5555555555555556,
              "#d8576b"
             ],
             [
              0.6666666666666666,
              "#ed7953"
             ],
             [
              0.7777777777777778,
              "#fb9f3a"
             ],
             [
              0.8888888888888888,
              "#fdca26"
             ],
             [
              1,
              "#f0f921"
             ]
            ],
            "type": "surface"
           }
          ],
          "table": [
           {
            "cells": {
             "fill": {
              "color": "#EBF0F8"
             },
             "line": {
              "color": "white"
             }
            },
            "header": {
             "fill": {
              "color": "#C8D4E3"
             },
             "line": {
              "color": "white"
             }
            },
            "type": "table"
           }
          ]
         },
         "layout": {
          "annotationdefaults": {
           "arrowcolor": "#2a3f5f",
           "arrowhead": 0,
           "arrowwidth": 1
          },
          "autotypenumbers": "strict",
          "coloraxis": {
           "colorbar": {
            "outlinewidth": 0,
            "ticks": ""
           }
          },
          "colorscale": {
           "diverging": [
            [
             0,
             "#8e0152"
            ],
            [
             0.1,
             "#c51b7d"
            ],
            [
             0.2,
             "#de77ae"
            ],
            [
             0.3,
             "#f1b6da"
            ],
            [
             0.4,
             "#fde0ef"
            ],
            [
             0.5,
             "#f7f7f7"
            ],
            [
             0.6,
             "#e6f5d0"
            ],
            [
             0.7,
             "#b8e186"
            ],
            [
             0.8,
             "#7fbc41"
            ],
            [
             0.9,
             "#4d9221"
            ],
            [
             1,
             "#276419"
            ]
           ],
           "sequential": [
            [
             0,
             "#0d0887"
            ],
            [
             0.1111111111111111,
             "#46039f"
            ],
            [
             0.2222222222222222,
             "#7201a8"
            ],
            [
             0.3333333333333333,
             "#9c179e"
            ],
            [
             0.4444444444444444,
             "#bd3786"
            ],
            [
             0.5555555555555556,
             "#d8576b"
            ],
            [
             0.6666666666666666,
             "#ed7953"
            ],
            [
             0.7777777777777778,
             "#fb9f3a"
            ],
            [
             0.8888888888888888,
             "#fdca26"
            ],
            [
             1,
             "#f0f921"
            ]
           ],
           "sequentialminus": [
            [
             0,
             "#0d0887"
            ],
            [
             0.1111111111111111,
             "#46039f"
            ],
            [
             0.2222222222222222,
             "#7201a8"
            ],
            [
             0.3333333333333333,
             "#9c179e"
            ],
            [
             0.4444444444444444,
             "#bd3786"
            ],
            [
             0.5555555555555556,
             "#d8576b"
            ],
            [
             0.6666666666666666,
             "#ed7953"
            ],
            [
             0.7777777777777778,
             "#fb9f3a"
            ],
            [
             0.8888888888888888,
             "#fdca26"
            ],
            [
             1,
             "#f0f921"
            ]
           ]
          },
          "colorway": [
           "#636efa",
           "#EF553B",
           "#00cc96",
           "#ab63fa",
           "#FFA15A",
           "#19d3f3",
           "#FF6692",
           "#B6E880",
           "#FF97FF",
           "#FECB52"
          ],
          "font": {
           "color": "#2a3f5f"
          },
          "geo": {
           "bgcolor": "white",
           "lakecolor": "white",
           "landcolor": "#E5ECF6",
           "showlakes": true,
           "showland": true,
           "subunitcolor": "white"
          },
          "hoverlabel": {
           "align": "left"
          },
          "hovermode": "closest",
          "mapbox": {
           "style": "light"
          },
          "paper_bgcolor": "white",
          "plot_bgcolor": "#E5ECF6",
          "polar": {
           "angularaxis": {
            "gridcolor": "white",
            "linecolor": "white",
            "ticks": ""
           },
           "bgcolor": "#E5ECF6",
           "radialaxis": {
            "gridcolor": "white",
            "linecolor": "white",
            "ticks": ""
           }
          },
          "scene": {
           "xaxis": {
            "backgroundcolor": "#E5ECF6",
            "gridcolor": "white",
            "gridwidth": 2,
            "linecolor": "white",
            "showbackground": true,
            "ticks": "",
            "zerolinecolor": "white"
           },
           "yaxis": {
            "backgroundcolor": "#E5ECF6",
            "gridcolor": "white",
            "gridwidth": 2,
            "linecolor": "white",
            "showbackground": true,
            "ticks": "",
            "zerolinecolor": "white"
           },
           "zaxis": {
            "backgroundcolor": "#E5ECF6",
            "gridcolor": "white",
            "gridwidth": 2,
            "linecolor": "white",
            "showbackground": true,
            "ticks": "",
            "zerolinecolor": "white"
           }
          },
          "shapedefaults": {
           "line": {
            "color": "#2a3f5f"
           }
          },
          "ternary": {
           "aaxis": {
            "gridcolor": "white",
            "linecolor": "white",
            "ticks": ""
           },
           "baxis": {
            "gridcolor": "white",
            "linecolor": "white",
            "ticks": ""
           },
           "bgcolor": "#E5ECF6",
           "caxis": {
            "gridcolor": "white",
            "linecolor": "white",
            "ticks": ""
           }
          },
          "title": {
           "x": 0.05
          },
          "xaxis": {
           "automargin": true,
           "gridcolor": "white",
           "linecolor": "white",
           "ticks": "",
           "title": {
            "standoff": 15
           },
           "zerolinecolor": "white",
           "zerolinewidth": 2
          },
          "yaxis": {
           "automargin": true,
           "gridcolor": "white",
           "linecolor": "white",
           "ticks": "",
           "title": {
            "standoff": 15
           },
           "zerolinecolor": "white",
           "zerolinewidth": 2
          }
         }
        },
        "title": {
         "text": "Happiness Index 2018"
        }
       }
      },
      "text/html": [
       "<div>                            <div id=\"59c64461-4cba-4845-87d4-e601427cd16c\" class=\"plotly-graph-div\" style=\"height:525px; width:100%;\"></div>            <script type=\"text/javascript\">                require([\"plotly\"], function(Plotly) {                    window.PLOTLYENV=window.PLOTLYENV || {};                                    if (document.getElementById(\"59c64461-4cba-4845-87d4-e601427cd16c\")) {                    Plotly.newPlot(                        \"59c64461-4cba-4845-87d4-e601427cd16c\",                        [{\"colorbar\":{\"title\":{\"text\":\"Happiness\"}},\"locationmode\":\"country names\",\"locations\":[\"Afghanistan\",\"Albania\",\"Algeria\",\"Angola\",\"Argentina\",\"Armenia\",\"Australia\",\"Austria\",\"Azerbaijan\",\"Bahrain\",\"Bangladesh\",\"Belarus\",\"Belgium\",\"Belize\",\"Benin\",\"Bhutan\",\"Bolivia\",\"Bosnia and Herzegovina\",\"Botswana\",\"Brazil\",\"Bulgaria\",\"Burkina Faso\",\"Burundi\",\"Cambodia\",\"Cameroon\",\"Canada\",\"Central African Republic\",\"Chad\",\"Chile\",\"China\",\"Colombia\",\"Congo (Brazzaville)\",\"Congo (Kinshasa)\",\"Costa Rica\",\"Croatia\",\"Cyprus\",\"Czech Republic\",\"Denmark\",\"Dominican Republic\",\"Ecuador\",\"Egypt\",\"El Salvador\",\"Estonia\",\"Ethiopia\",\"Finland\",\"France\",\"Gabon\",\"Georgia\",\"Germany\",\"Ghana\",\"Greece\",\"Guatemala\",\"Guinea\",\"Haiti\",\"Honduras\",\"Hong Kong SAR, China\",\"Hungary\",\"Iceland\",\"India\",\"Indonesia\",\"Iran\",\"Iraq\",\"Ireland\",\"Israel\",\"Italy\",\"Ivory Coast\",\"Jamaica\",\"Japan\",\"Jordan\",\"Kazakhstan\",\"Kenya\",\"Kosovo\",\"Kuwait\",\"Kyrgyzstan\",\"Laos\",\"Latvia\",\"Lebanon\",\"Lesotho\",\"Liberia\",\"Libya\",\"Lithuania\",\"Luxembourg\",\"Macedonia\",\"Madagascar\",\"Malawi\",\"Malaysia\",\"Mali\",\"Malta\",\"Mauritania\",\"Mauritius\",\"Mexico\",\"Moldova\",\"Mongolia\",\"Montenegro\",\"Morocco\",\"Mozambique\",\"Myanmar\",\"Namibia\",\"Nepal\",\"Netherlands\",\"New Zealand\",\"Nicaragua\",\"Niger\",\"Nigeria\",\"Northern Cyprus\",\"Norway\",\"Pakistan\",\"Palestinian Territories\",\"Panama\",\"Paraguay\",\"Peru\",\"Philippines\",\"Poland\",\"Portugal\",\"Qatar\",\"Romania\",\"Russia\",\"Rwanda\",\"Saudi Arabia\",\"Senegal\",\"Serbia\",\"Sierra Leone\",\"Singapore\",\"Slovakia\",\"Slovenia\",\"Somalia\",\"South Africa\",\"South Korea\",\"South Sudan\",\"Spain\",\"Sri Lanka\",\"Sudan\",\"Sweden\",\"Switzerland\",\"Syria\",\"Taiwan Province of China\",\"Tajikistan\",\"Tanzania\",\"Thailand\",\"Togo\",\"Trinidad & Tobago\",\"Tunisia\",\"Turkey\",\"Turkmenistan\",\"Uganda\",\"Ukraine\",\"United Arab Emirates\",\"United Kingdom\",\"United States\",\"Uruguay\",\"Uzbekistan\",\"Venezuela\",\"Vietnam\",\"Yemen\",\"Zambia\",\"Zimbabwe\"],\"text\":[\"Afghanistan\",\"Albania\",\"Algeria\",\"Angola\",\"Argentina\",\"Armenia\",\"Australia\",\"Austria\",\"Azerbaijan\",\"Bahrain\",\"Bangladesh\",\"Belarus\",\"Belgium\",\"Belize\",\"Benin\",\"Bhutan\",\"Bolivia\",\"Bosnia and Herzegovina\",\"Botswana\",\"Brazil\",\"Bulgaria\",\"Burkina Faso\",\"Burundi\",\"Cambodia\",\"Cameroon\",\"Canada\",\"Central African Republic\",\"Chad\",\"Chile\",\"China\",\"Colombia\",\"Congo (Brazzaville)\",\"Congo (Kinshasa)\",\"Costa Rica\",\"Croatia\",\"Cyprus\",\"Czech Republic\",\"Denmark\",\"Dominican Republic\",\"Ecuador\",\"Egypt\",\"El Salvador\",\"Estonia\",\"Ethiopia\",\"Finland\",\"France\",\"Gabon\",\"Georgia\",\"Germany\",\"Ghana\",\"Greece\",\"Guatemala\",\"Guinea\",\"Haiti\",\"Honduras\",\"Hong Kong SAR, China\",\"Hungary\",\"Iceland\",\"India\",\"Indonesia\",\"Iran\",\"Iraq\",\"Ireland\",\"Israel\",\"Italy\",\"Ivory Coast\",\"Jamaica\",\"Japan\",\"Jordan\",\"Kazakhstan\",\"Kenya\",\"Kosovo\",\"Kuwait\",\"Kyrgyzstan\",\"Laos\",\"Latvia\",\"Lebanon\",\"Lesotho\",\"Liberia\",\"Libya\",\"Lithuania\",\"Luxembourg\",\"Macedonia\",\"Madagascar\",\"Malawi\",\"Malaysia\",\"Mali\",\"Malta\",\"Mauritania\",\"Mauritius\",\"Mexico\",\"Moldova\",\"Mongolia\",\"Montenegro\",\"Morocco\",\"Mozambique\",\"Myanmar\",\"Namibia\",\"Nepal\",\"Netherlands\",\"New Zealand\",\"Nicaragua\",\"Niger\",\"Nigeria\",\"Northern Cyprus\",\"Norway\",\"Pakistan\",\"Palestinian Territories\",\"Panama\",\"Paraguay\",\"Peru\",\"Philippines\",\"Poland\",\"Portugal\",\"Qatar\",\"Romania\",\"Russia\",\"Rwanda\",\"Saudi Arabia\",\"Senegal\",\"Serbia\",\"Sierra Leone\",\"Singapore\",\"Slovakia\",\"Slovenia\",\"Somalia\",\"South Africa\",\"South Korea\",\"South Sudan\",\"Spain\",\"Sri Lanka\",\"Sudan\",\"Sweden\",\"Switzerland\",\"Syria\",\"Taiwan Province of China\",\"Tajikistan\",\"Tanzania\",\"Thailand\",\"Togo\",\"Trinidad & Tobago\",\"Tunisia\",\"Turkey\",\"Turkmenistan\",\"Uganda\",\"Ukraine\",\"United Arab Emirates\",\"United Kingdom\",\"United States\",\"Uruguay\",\"Uzbekistan\",\"Venezuela\",\"Vietnam\",\"Yemen\",\"Zambia\",\"Zimbabwe\"],\"z\":[3.632,4.586,5.295,3.795,6.388,4.321,7.272,7.139,5.201,6.105,4.5,5.483,6.927,5.956,4.141,5.082,5.752,5.129,3.59,6.419,4.933,4.424,2.905,4.433,4.975,7.328,3.083,4.301,6.476,5.246,6.26,4.559,4.245,7.072,5.321,5.762,6.711,7.555,5.302,5.973,4.419,6.167,5.739,4.35,7.632,6.489,4.758,4.34,6.965,4.657,5.358,6.382,3.964,3.582,5.504,5.43,5.62,7.495,4.19,5.093,4.707,4.456,6.977,7.19,6.0,4.671,5.89,5.915,5.161,5.79,4.41,5.662,6.083,5.131,4.623,5.933,5.199,3.808,3.495,5.566,5.952,6.91,5.185,3.774,3.587,6.322,4.447,6.627,4.356,5.891,6.488,5.64,5.125,5.347,5.254,4.417,4.308,4.441,4.88,7.441,7.324,6.141,4.166,5.155,5.835,7.594,5.472,4.743,6.43,5.681,5.663,5.524,6.123,5.41,6.374,5.945,5.81,3.408,6.371,4.631,5.398,4.571,6.343,6.173,5.948,4.982,4.724,5.875,3.254,6.31,4.471,4.139,7.314,7.487,3.462,6.441,5.352,3.303,6.072,3.999,6.192,4.592,5.483,5.636,4.161,4.103,6.774,6.814,6.886,6.379,6.096,4.806,5.103,3.355,4.377,3.692],\"type\":\"choropleth\"}],                        {\"geo\":{\"projection\":{\"type\":\"mercator\"},\"showframe\":false},\"template\":{\"data\":{\"barpolar\":[{\"marker\":{\"line\":{\"color\":\"#E5ECF6\",\"width\":0.5},\"pattern\":{\"fillmode\":\"overlay\",\"size\":10,\"solidity\":0.2}},\"type\":\"barpolar\"}],\"bar\":[{\"error_x\":{\"color\":\"#2a3f5f\"},\"error_y\":{\"color\":\"#2a3f5f\"},\"marker\":{\"line\":{\"color\":\"#E5ECF6\",\"width\":0.5},\"pattern\":{\"fillmode\":\"overlay\",\"size\":10,\"solidity\":0.2}},\"type\":\"bar\"}],\"carpet\":[{\"aaxis\":{\"endlinecolor\":\"#2a3f5f\",\"gridcolor\":\"white\",\"linecolor\":\"white\",\"minorgridcolor\":\"white\",\"startlinecolor\":\"#2a3f5f\"},\"baxis\":{\"endlinecolor\":\"#2a3f5f\",\"gridcolor\":\"white\",\"linecolor\":\"white\",\"minorgridcolor\":\"white\",\"startlinecolor\":\"#2a3f5f\"},\"type\":\"carpet\"}],\"choropleth\":[{\"colorbar\":{\"outlinewidth\":0,\"ticks\":\"\"},\"type\":\"choropleth\"}],\"contourcarpet\":[{\"colorbar\":{\"outlinewidth\":0,\"ticks\":\"\"},\"type\":\"contourcarpet\"}],\"contour\":[{\"colorbar\":{\"outlinewidth\":0,\"ticks\":\"\"},\"colorscale\":[[0.0,\"#0d0887\"],[0.1111111111111111,\"#46039f\"],[0.2222222222222222,\"#7201a8\"],[0.3333333333333333,\"#9c179e\"],[0.4444444444444444,\"#bd3786\"],[0.5555555555555556,\"#d8576b\"],[0.6666666666666666,\"#ed7953\"],[0.7777777777777778,\"#fb9f3a\"],[0.8888888888888888,\"#fdca26\"],[1.0,\"#f0f921\"]],\"type\":\"contour\"}],\"heatmapgl\":[{\"colorbar\":{\"outlinewidth\":0,\"ticks\":\"\"},\"colorscale\":[[0.0,\"#0d0887\"],[0.1111111111111111,\"#46039f\"],[0.2222222222222222,\"#7201a8\"],[0.3333333333333333,\"#9c179e\"],[0.4444444444444444,\"#bd3786\"],[0.5555555555555556,\"#d8576b\"],[0.6666666666666666,\"#ed7953\"],[0.7777777777777778,\"#fb9f3a\"],[0.8888888888888888,\"#fdca26\"],[1.0,\"#f0f921\"]],\"type\":\"heatmapgl\"}],\"heatmap\":[{\"colorbar\":{\"outlinewidth\":0,\"ticks\":\"\"},\"colorscale\":[[0.0,\"#0d0887\"],[0.1111111111111111,\"#46039f\"],[0.2222222222222222,\"#7201a8\"],[0.3333333333333333,\"#9c179e\"],[0.4444444444444444,\"#bd3786\"],[0.5555555555555556,\"#d8576b\"],[0.6666666666666666,\"#ed7953\"],[0.7777777777777778,\"#fb9f3a\"],[0.8888888888888888,\"#fdca26\"],[1.0,\"#f0f921\"]],\"type\":\"heatmap\"}],\"histogram2dcontour\":[{\"colorbar\":{\"outlinewidth\":0,\"ticks\":\"\"},\"colorscale\":[[0.0,\"#0d0887\"],[0.1111111111111111,\"#46039f\"],[0.2222222222222222,\"#7201a8\"],[0.3333333333333333,\"#9c179e\"],[0.4444444444444444,\"#bd3786\"],[0.5555555555555556,\"#d8576b\"],[0.6666666666666666,\"#ed7953\"],[0.7777777777777778,\"#fb9f3a\"],[0.8888888888888888,\"#fdca26\"],[1.0,\"#f0f921\"]],\"type\":\"histogram2dcontour\"}],\"histogram2d\":[{\"colorbar\":{\"outlinewidth\":0,\"ticks\":\"\"},\"colorscale\":[[0.0,\"#0d0887\"],[0.1111111111111111,\"#46039f\"],[0.2222222222222222,\"#7201a8\"],[0.3333333333333333,\"#9c179e\"],[0.4444444444444444,\"#bd3786\"],[0.5555555555555556,\"#d8576b\"],[0.6666666666666666,\"#ed7953\"],[0.7777777777777778,\"#fb9f3a\"],[0.8888888888888888,\"#fdca26\"],[1.0,\"#f0f921\"]],\"type\":\"histogram2d\"}],\"histogram\":[{\"marker\":{\"pattern\":{\"fillmode\":\"overlay\",\"size\":10,\"solidity\":0.2}},\"type\":\"histogram\"}],\"mesh3d\":[{\"colorbar\":{\"outlinewidth\":0,\"ticks\":\"\"},\"type\":\"mesh3d\"}],\"parcoords\":[{\"line\":{\"colorbar\":{\"outlinewidth\":0,\"ticks\":\"\"}},\"type\":\"parcoords\"}],\"pie\":[{\"automargin\":true,\"type\":\"pie\"}],\"scatter3d\":[{\"line\":{\"colorbar\":{\"outlinewidth\":0,\"ticks\":\"\"}},\"marker\":{\"colorbar\":{\"outlinewidth\":0,\"ticks\":\"\"}},\"type\":\"scatter3d\"}],\"scattercarpet\":[{\"marker\":{\"colorbar\":{\"outlinewidth\":0,\"ticks\":\"\"}},\"type\":\"scattercarpet\"}],\"scattergeo\":[{\"marker\":{\"colorbar\":{\"outlinewidth\":0,\"ticks\":\"\"}},\"type\":\"scattergeo\"}],\"scattergl\":[{\"marker\":{\"colorbar\":{\"outlinewidth\":0,\"ticks\":\"\"}},\"type\":\"scattergl\"}],\"scattermapbox\":[{\"marker\":{\"colorbar\":{\"outlinewidth\":0,\"ticks\":\"\"}},\"type\":\"scattermapbox\"}],\"scatterpolargl\":[{\"marker\":{\"colorbar\":{\"outlinewidth\":0,\"ticks\":\"\"}},\"type\":\"scatterpolargl\"}],\"scatterpolar\":[{\"marker\":{\"colorbar\":{\"outlinewidth\":0,\"ticks\":\"\"}},\"type\":\"scatterpolar\"}],\"scatter\":[{\"marker\":{\"colorbar\":{\"outlinewidth\":0,\"ticks\":\"\"}},\"type\":\"scatter\"}],\"scatterternary\":[{\"marker\":{\"colorbar\":{\"outlinewidth\":0,\"ticks\":\"\"}},\"type\":\"scatterternary\"}],\"surface\":[{\"colorbar\":{\"outlinewidth\":0,\"ticks\":\"\"},\"colorscale\":[[0.0,\"#0d0887\"],[0.1111111111111111,\"#46039f\"],[0.2222222222222222,\"#7201a8\"],[0.3333333333333333,\"#9c179e\"],[0.4444444444444444,\"#bd3786\"],[0.5555555555555556,\"#d8576b\"],[0.6666666666666666,\"#ed7953\"],[0.7777777777777778,\"#fb9f3a\"],[0.8888888888888888,\"#fdca26\"],[1.0,\"#f0f921\"]],\"type\":\"surface\"}],\"table\":[{\"cells\":{\"fill\":{\"color\":\"#EBF0F8\"},\"line\":{\"color\":\"white\"}},\"header\":{\"fill\":{\"color\":\"#C8D4E3\"},\"line\":{\"color\":\"white\"}},\"type\":\"table\"}]},\"layout\":{\"annotationdefaults\":{\"arrowcolor\":\"#2a3f5f\",\"arrowhead\":0,\"arrowwidth\":1},\"autotypenumbers\":\"strict\",\"coloraxis\":{\"colorbar\":{\"outlinewidth\":0,\"ticks\":\"\"}},\"colorscale\":{\"diverging\":[[0,\"#8e0152\"],[0.1,\"#c51b7d\"],[0.2,\"#de77ae\"],[0.3,\"#f1b6da\"],[0.4,\"#fde0ef\"],[0.5,\"#f7f7f7\"],[0.6,\"#e6f5d0\"],[0.7,\"#b8e186\"],[0.8,\"#7fbc41\"],[0.9,\"#4d9221\"],[1,\"#276419\"]],\"sequential\":[[0.0,\"#0d0887\"],[0.1111111111111111,\"#46039f\"],[0.2222222222222222,\"#7201a8\"],[0.3333333333333333,\"#9c179e\"],[0.4444444444444444,\"#bd3786\"],[0.5555555555555556,\"#d8576b\"],[0.6666666666666666,\"#ed7953\"],[0.7777777777777778,\"#fb9f3a\"],[0.8888888888888888,\"#fdca26\"],[1.0,\"#f0f921\"]],\"sequentialminus\":[[0.0,\"#0d0887\"],[0.1111111111111111,\"#46039f\"],[0.2222222222222222,\"#7201a8\"],[0.3333333333333333,\"#9c179e\"],[0.4444444444444444,\"#bd3786\"],[0.5555555555555556,\"#d8576b\"],[0.6666666666666666,\"#ed7953\"],[0.7777777777777778,\"#fb9f3a\"],[0.8888888888888888,\"#fdca26\"],[1.0,\"#f0f921\"]]},\"colorway\":[\"#636efa\",\"#EF553B\",\"#00cc96\",\"#ab63fa\",\"#FFA15A\",\"#19d3f3\",\"#FF6692\",\"#B6E880\",\"#FF97FF\",\"#FECB52\"],\"font\":{\"color\":\"#2a3f5f\"},\"geo\":{\"bgcolor\":\"white\",\"lakecolor\":\"white\",\"landcolor\":\"#E5ECF6\",\"showlakes\":true,\"showland\":true,\"subunitcolor\":\"white\"},\"hoverlabel\":{\"align\":\"left\"},\"hovermode\":\"closest\",\"mapbox\":{\"style\":\"light\"},\"paper_bgcolor\":\"white\",\"plot_bgcolor\":\"#E5ECF6\",\"polar\":{\"angularaxis\":{\"gridcolor\":\"white\",\"linecolor\":\"white\",\"ticks\":\"\"},\"bgcolor\":\"#E5ECF6\",\"radialaxis\":{\"gridcolor\":\"white\",\"linecolor\":\"white\",\"ticks\":\"\"}},\"scene\":{\"xaxis\":{\"backgroundcolor\":\"#E5ECF6\",\"gridcolor\":\"white\",\"gridwidth\":2,\"linecolor\":\"white\",\"showbackground\":true,\"ticks\":\"\",\"zerolinecolor\":\"white\"},\"yaxis\":{\"backgroundcolor\":\"#E5ECF6\",\"gridcolor\":\"white\",\"gridwidth\":2,\"linecolor\":\"white\",\"showbackground\":true,\"ticks\":\"\",\"zerolinecolor\":\"white\"},\"zaxis\":{\"backgroundcolor\":\"#E5ECF6\",\"gridcolor\":\"white\",\"gridwidth\":2,\"linecolor\":\"white\",\"showbackground\":true,\"ticks\":\"\",\"zerolinecolor\":\"white\"}},\"shapedefaults\":{\"line\":{\"color\":\"#2a3f5f\"}},\"ternary\":{\"aaxis\":{\"gridcolor\":\"white\",\"linecolor\":\"white\",\"ticks\":\"\"},\"baxis\":{\"gridcolor\":\"white\",\"linecolor\":\"white\",\"ticks\":\"\"},\"bgcolor\":\"#E5ECF6\",\"caxis\":{\"gridcolor\":\"white\",\"linecolor\":\"white\",\"ticks\":\"\"}},\"title\":{\"x\":0.05},\"xaxis\":{\"automargin\":true,\"gridcolor\":\"white\",\"linecolor\":\"white\",\"ticks\":\"\",\"title\":{\"standoff\":15},\"zerolinecolor\":\"white\",\"zerolinewidth\":2},\"yaxis\":{\"automargin\":true,\"gridcolor\":\"white\",\"linecolor\":\"white\",\"ticks\":\"\",\"title\":{\"standoff\":15},\"zerolinecolor\":\"white\",\"zerolinewidth\":2}}},\"title\":{\"text\":\"Happiness Index 2018\"}},                        {\"responsive\": true}                    ).then(function(){\n",
       "                            \n",
       "var gd = document.getElementById('59c64461-4cba-4845-87d4-e601427cd16c');\n",
       "var x = new MutationObserver(function (mutations, observer) {{\n",
       "        var display = window.getComputedStyle(gd).display;\n",
       "        if (!display || display === 'none') {{\n",
       "            console.log([gd, 'removed!']);\n",
       "            Plotly.purge(gd);\n",
       "            observer.disconnect();\n",
       "        }}\n",
       "}});\n",
       "\n",
       "// Listen for the removal of the full notebook cells\n",
       "var notebookContainer = gd.closest('#notebook-container');\n",
       "if (notebookContainer) {{\n",
       "    x.observe(notebookContainer, {childList: true});\n",
       "}}\n",
       "\n",
       "// Listen for the clearing of the current output cell\n",
       "var outputEl = gd.closest('.output');\n",
       "if (outputEl) {{\n",
       "    x.observe(outputEl, {childList: true});\n",
       "}}\n",
       "\n",
       "                        })                };                });            </script>        </div>"
      ]
     },
     "metadata": {},
     "output_type": "display_data"
    }
   ],
   "source": [
    "data1 = dict(type = 'choropleth', \n",
    "           locations = data['COUNTRY'],\n",
    "           locationmode = 'country names',\n",
    "           z = data['HAPPINESS_SCORE'], \n",
    "           text = data['COUNTRY'],\n",
    "           colorbar = {'title':'Happiness'})\n",
    "layout = dict(title = 'Happiness Index 2018', \n",
    "             geo = dict(showframe = False, \n",
    "                       projection = {'type': 'mercator'}))\n",
    "choromap3 = go.Figure(data = [data1], layout=layout)\n",
    "iplot(choromap3)"
   ]
  },
  {
   "cell_type": "code",
   "execution_count": 10,
   "id": "47dd9cd8",
   "metadata": {},
   "outputs": [],
   "source": [
    "# Remove rows with missing values\n",
    "data = data.dropna(how='any',axis=0)\n",
    "\n",
    "# After removing missing values, reset the index\n",
    "data = data.reset_index(drop=True)"
   ]
  },
  {
   "cell_type": "code",
   "execution_count": 11,
   "id": "48a80c1a",
   "metadata": {},
   "outputs": [
    {
     "data": {
      "text/html": [
       "<div>\n",
       "<style scoped>\n",
       "    .dataframe tbody tr th:only-of-type {\n",
       "        vertical-align: middle;\n",
       "    }\n",
       "\n",
       "    .dataframe tbody tr th {\n",
       "        vertical-align: top;\n",
       "    }\n",
       "\n",
       "    .dataframe thead th {\n",
       "        text-align: right;\n",
       "    }\n",
       "</style>\n",
       "<table border=\"1\" class=\"dataframe\">\n",
       "  <thead>\n",
       "    <tr style=\"text-align: right;\">\n",
       "      <th></th>\n",
       "      <th>HAPPINESS_SCORE</th>\n",
       "      <th>LOG_OF_GDP_PER_PERSON</th>\n",
       "      <th>GDP_PER_PERSON</th>\n",
       "      <th>HEALTHY_LIFE_EXPECTANCY</th>\n",
       "      <th>SOCIAL_SUPPORT</th>\n",
       "      <th>FREEDOM</th>\n",
       "      <th>GENEROSITY</th>\n",
       "      <th>PERCEPTIONS_OF_CORRUPTION</th>\n",
       "    </tr>\n",
       "  </thead>\n",
       "  <tbody>\n",
       "    <tr>\n",
       "      <th>count</th>\n",
       "      <td>142.00</td>\n",
       "      <td>142.00</td>\n",
       "      <td>142.00</td>\n",
       "      <td>142.00</td>\n",
       "      <td>142.00</td>\n",
       "      <td>142.00</td>\n",
       "      <td>142.00</td>\n",
       "      <td>142.00</td>\n",
       "    </tr>\n",
       "    <tr>\n",
       "      <th>mean</th>\n",
       "      <td>5.35</td>\n",
       "      <td>9.17</td>\n",
       "      <td>17126.09</td>\n",
       "      <td>62.56</td>\n",
       "      <td>0.80</td>\n",
       "      <td>0.75</td>\n",
       "      <td>0.29</td>\n",
       "      <td>0.74</td>\n",
       "    </tr>\n",
       "    <tr>\n",
       "      <th>std</th>\n",
       "      <td>1.14</td>\n",
       "      <td>1.19</td>\n",
       "      <td>17197.39</td>\n",
       "      <td>7.87</td>\n",
       "      <td>0.12</td>\n",
       "      <td>0.14</td>\n",
       "      <td>0.18</td>\n",
       "      <td>0.18</td>\n",
       "    </tr>\n",
       "    <tr>\n",
       "      <th>min</th>\n",
       "      <td>2.90</td>\n",
       "      <td>6.47</td>\n",
       "      <td>647.88</td>\n",
       "      <td>43.99</td>\n",
       "      <td>0.31</td>\n",
       "      <td>0.37</td>\n",
       "      <td>0.03</td>\n",
       "      <td>0.10</td>\n",
       "    </tr>\n",
       "    <tr>\n",
       "      <th>25%</th>\n",
       "      <td>4.43</td>\n",
       "      <td>8.23</td>\n",
       "      <td>3742.62</td>\n",
       "      <td>56.66</td>\n",
       "      <td>0.74</td>\n",
       "      <td>0.67</td>\n",
       "      <td>0.16</td>\n",
       "      <td>0.70</td>\n",
       "    </tr>\n",
       "    <tr>\n",
       "      <th>50%</th>\n",
       "      <td>5.33</td>\n",
       "      <td>9.34</td>\n",
       "      <td>11400.95</td>\n",
       "      <td>64.04</td>\n",
       "      <td>0.82</td>\n",
       "      <td>0.78</td>\n",
       "      <td>0.25</td>\n",
       "      <td>0.80</td>\n",
       "    </tr>\n",
       "    <tr>\n",
       "      <th>75%</th>\n",
       "      <td>6.16</td>\n",
       "      <td>10.12</td>\n",
       "      <td>24852.59</td>\n",
       "      <td>68.38</td>\n",
       "      <td>0.91</td>\n",
       "      <td>0.86</td>\n",
       "      <td>0.38</td>\n",
       "      <td>0.85</td>\n",
       "    </tr>\n",
       "    <tr>\n",
       "      <th>max</th>\n",
       "      <td>7.63</td>\n",
       "      <td>11.46</td>\n",
       "      <td>94730.00</td>\n",
       "      <td>75.72</td>\n",
       "      <td>0.98</td>\n",
       "      <td>0.98</td>\n",
       "      <td>0.90</td>\n",
       "      <td>0.95</td>\n",
       "    </tr>\n",
       "  </tbody>\n",
       "</table>\n",
       "</div>"
      ],
      "text/plain": [
       "       HAPPINESS_SCORE  LOG_OF_GDP_PER_PERSON  GDP_PER_PERSON  \\\n",
       "count           142.00                 142.00          142.00   \n",
       "mean              5.35                   9.17        17126.09   \n",
       "std               1.14                   1.19        17197.39   \n",
       "min               2.90                   6.47          647.88   \n",
       "25%               4.43                   8.23         3742.62   \n",
       "50%               5.33                   9.34        11400.95   \n",
       "75%               6.16                  10.12        24852.59   \n",
       "max               7.63                  11.46        94730.00   \n",
       "\n",
       "       HEALTHY_LIFE_EXPECTANCY  SOCIAL_SUPPORT  FREEDOM  GENEROSITY  \\\n",
       "count                   142.00          142.00   142.00      142.00   \n",
       "mean                     62.56            0.80     0.75        0.29   \n",
       "std                       7.87            0.12     0.14        0.18   \n",
       "min                      43.99            0.31     0.37        0.03   \n",
       "25%                      56.66            0.74     0.67        0.16   \n",
       "50%                      64.04            0.82     0.78        0.25   \n",
       "75%                      68.38            0.91     0.86        0.38   \n",
       "max                      75.72            0.98     0.98        0.90   \n",
       "\n",
       "       PERCEPTIONS_OF_CORRUPTION  \n",
       "count                     142.00  \n",
       "mean                        0.74  \n",
       "std                         0.18  \n",
       "min                         0.10  \n",
       "25%                         0.70  \n",
       "50%                         0.80  \n",
       "75%                         0.85  \n",
       "max                         0.95  "
      ]
     },
     "execution_count": 11,
     "metadata": {},
     "output_type": "execute_result"
    }
   ],
   "source": [
    "# Summary Statistics for all Variables\n",
    "data.describe().round(2)"
   ]
  },
  {
   "cell_type": "code",
   "execution_count": 12,
   "id": "febda587",
   "metadata": {},
   "outputs": [
    {
     "data": {
      "text/html": [
       "<div>\n",
       "<style scoped>\n",
       "    .dataframe tbody tr th:only-of-type {\n",
       "        vertical-align: middle;\n",
       "    }\n",
       "\n",
       "    .dataframe tbody tr th {\n",
       "        vertical-align: top;\n",
       "    }\n",
       "\n",
       "    .dataframe thead th {\n",
       "        text-align: right;\n",
       "    }\n",
       "</style>\n",
       "<table border=\"1\" class=\"dataframe\">\n",
       "  <thead>\n",
       "    <tr style=\"text-align: right;\">\n",
       "      <th></th>\n",
       "      <th>HAPPINESS_SCORE</th>\n",
       "      <th>LOG_OF_GDP_PER_PERSON</th>\n",
       "      <th>GDP_PER_PERSON</th>\n",
       "      <th>HEALTHY_LIFE_EXPECTANCY</th>\n",
       "      <th>SOCIAL_SUPPORT</th>\n",
       "      <th>FREEDOM</th>\n",
       "      <th>GENEROSITY</th>\n",
       "      <th>PERCEPTIONS_OF_CORRUPTION</th>\n",
       "    </tr>\n",
       "  </thead>\n",
       "  <tbody>\n",
       "    <tr>\n",
       "      <th>HAPPINESS_SCORE</th>\n",
       "      <td>1.00</td>\n",
       "      <td>0.82</td>\n",
       "      <td>0.77</td>\n",
       "      <td>0.80</td>\n",
       "      <td>0.77</td>\n",
       "      <td>0.55</td>\n",
       "      <td>0.56</td>\n",
       "      <td>-0.43</td>\n",
       "    </tr>\n",
       "    <tr>\n",
       "      <th>LOG_OF_GDP_PER_PERSON</th>\n",
       "      <td>0.82</td>\n",
       "      <td>1.00</td>\n",
       "      <td>0.85</td>\n",
       "      <td>0.88</td>\n",
       "      <td>0.75</td>\n",
       "      <td>0.37</td>\n",
       "      <td>0.50</td>\n",
       "      <td>-0.35</td>\n",
       "    </tr>\n",
       "    <tr>\n",
       "      <th>GDP_PER_PERSON</th>\n",
       "      <td>0.77</td>\n",
       "      <td>0.85</td>\n",
       "      <td>1.00</td>\n",
       "      <td>0.75</td>\n",
       "      <td>0.62</td>\n",
       "      <td>0.39</td>\n",
       "      <td>0.58</td>\n",
       "      <td>-0.58</td>\n",
       "    </tr>\n",
       "    <tr>\n",
       "      <th>HEALTHY_LIFE_EXPECTANCY</th>\n",
       "      <td>0.80</td>\n",
       "      <td>0.88</td>\n",
       "      <td>0.75</td>\n",
       "      <td>1.00</td>\n",
       "      <td>0.70</td>\n",
       "      <td>0.37</td>\n",
       "      <td>0.47</td>\n",
       "      <td>-0.33</td>\n",
       "    </tr>\n",
       "    <tr>\n",
       "      <th>SOCIAL_SUPPORT</th>\n",
       "      <td>0.77</td>\n",
       "      <td>0.75</td>\n",
       "      <td>0.62</td>\n",
       "      <td>0.70</td>\n",
       "      <td>1.00</td>\n",
       "      <td>0.41</td>\n",
       "      <td>0.43</td>\n",
       "      <td>-0.26</td>\n",
       "    </tr>\n",
       "    <tr>\n",
       "      <th>FREEDOM</th>\n",
       "      <td>0.55</td>\n",
       "      <td>0.37</td>\n",
       "      <td>0.39</td>\n",
       "      <td>0.37</td>\n",
       "      <td>0.41</td>\n",
       "      <td>1.00</td>\n",
       "      <td>0.49</td>\n",
       "      <td>-0.47</td>\n",
       "    </tr>\n",
       "    <tr>\n",
       "      <th>GENEROSITY</th>\n",
       "      <td>0.56</td>\n",
       "      <td>0.50</td>\n",
       "      <td>0.58</td>\n",
       "      <td>0.47</td>\n",
       "      <td>0.43</td>\n",
       "      <td>0.49</td>\n",
       "      <td>1.00</td>\n",
       "      <td>-0.50</td>\n",
       "    </tr>\n",
       "    <tr>\n",
       "      <th>PERCEPTIONS_OF_CORRUPTION</th>\n",
       "      <td>-0.43</td>\n",
       "      <td>-0.35</td>\n",
       "      <td>-0.58</td>\n",
       "      <td>-0.33</td>\n",
       "      <td>-0.26</td>\n",
       "      <td>-0.47</td>\n",
       "      <td>-0.50</td>\n",
       "      <td>1.00</td>\n",
       "    </tr>\n",
       "  </tbody>\n",
       "</table>\n",
       "</div>"
      ],
      "text/plain": [
       "                           HAPPINESS_SCORE  LOG_OF_GDP_PER_PERSON  \\\n",
       "HAPPINESS_SCORE                       1.00                   0.82   \n",
       "LOG_OF_GDP_PER_PERSON                 0.82                   1.00   \n",
       "GDP_PER_PERSON                        0.77                   0.85   \n",
       "HEALTHY_LIFE_EXPECTANCY               0.80                   0.88   \n",
       "SOCIAL_SUPPORT                        0.77                   0.75   \n",
       "FREEDOM                               0.55                   0.37   \n",
       "GENEROSITY                            0.56                   0.50   \n",
       "PERCEPTIONS_OF_CORRUPTION            -0.43                  -0.35   \n",
       "\n",
       "                           GDP_PER_PERSON  HEALTHY_LIFE_EXPECTANCY  \\\n",
       "HAPPINESS_SCORE                      0.77                     0.80   \n",
       "LOG_OF_GDP_PER_PERSON                0.85                     0.88   \n",
       "GDP_PER_PERSON                       1.00                     0.75   \n",
       "HEALTHY_LIFE_EXPECTANCY              0.75                     1.00   \n",
       "SOCIAL_SUPPORT                       0.62                     0.70   \n",
       "FREEDOM                              0.39                     0.37   \n",
       "GENEROSITY                           0.58                     0.47   \n",
       "PERCEPTIONS_OF_CORRUPTION           -0.58                    -0.33   \n",
       "\n",
       "                           SOCIAL_SUPPORT  FREEDOM  GENEROSITY  \\\n",
       "HAPPINESS_SCORE                      0.77     0.55        0.56   \n",
       "LOG_OF_GDP_PER_PERSON                0.75     0.37        0.50   \n",
       "GDP_PER_PERSON                       0.62     0.39        0.58   \n",
       "HEALTHY_LIFE_EXPECTANCY              0.70     0.37        0.47   \n",
       "SOCIAL_SUPPORT                       1.00     0.41        0.43   \n",
       "FREEDOM                              0.41     1.00        0.49   \n",
       "GENEROSITY                           0.43     0.49        1.00   \n",
       "PERCEPTIONS_OF_CORRUPTION           -0.26    -0.47       -0.50   \n",
       "\n",
       "                           PERCEPTIONS_OF_CORRUPTION  \n",
       "HAPPINESS_SCORE                                -0.43  \n",
       "LOG_OF_GDP_PER_PERSON                          -0.35  \n",
       "GDP_PER_PERSON                                 -0.58  \n",
       "HEALTHY_LIFE_EXPECTANCY                        -0.33  \n",
       "SOCIAL_SUPPORT                                 -0.26  \n",
       "FREEDOM                                        -0.47  \n",
       "GENEROSITY                                     -0.50  \n",
       "PERCEPTIONS_OF_CORRUPTION                       1.00  "
      ]
     },
     "execution_count": 12,
     "metadata": {},
     "output_type": "execute_result"
    }
   ],
   "source": [
    "# Calculate the complete correlation matrix\n",
    "data.corr().round(2)"
   ]
  },
  {
   "cell_type": "code",
   "execution_count": 13,
   "id": "e437da08",
   "metadata": {},
   "outputs": [
    {
     "data": {
      "text/plain": [
       "<AxesSubplot:>"
      ]
     },
     "execution_count": 13,
     "metadata": {},
     "output_type": "execute_result"
    },
    {
     "data": {
      "image/png": "[encoded data removed]",
      "text/plain": [
       "<Figure size 864x576 with 2 Axes>"
      ]
     },
     "metadata": {},
     "output_type": "display_data"
    }
   ],
   "source": [
    "# Heatmap of the Correlation Matrix\n",
    "f, axes = plt.subplots(1, 1, figsize=(12, 8))\n",
    "sb.heatmap(data.corr(), vmin = -1, vmax = 1, annot = True, fmt = \".2f\")"
   ]
  },
  {
   "cell_type": "code",
   "execution_count": 14,
   "id": "2143e017",
   "metadata": {},
   "outputs": [
    {
     "data": {
      "text/html": [
       "<div>\n",
       "<style scoped>\n",
       "    .dataframe tbody tr th:only-of-type {\n",
       "        vertical-align: middle;\n",
       "    }\n",
       "\n",
       "    .dataframe tbody tr th {\n",
       "        vertical-align: top;\n",
       "    }\n",
       "\n",
       "    .dataframe thead th {\n",
       "        text-align: right;\n",
       "    }\n",
       "</style>\n",
       "<table border=\"1\" class=\"dataframe\">\n",
       "  <thead>\n",
       "    <tr style=\"text-align: right;\">\n",
       "      <th></th>\n",
       "      <th>HAPPINESS_SCORE</th>\n",
       "    </tr>\n",
       "  </thead>\n",
       "  <tbody>\n",
       "    <tr>\n",
       "      <th>count</th>\n",
       "      <td>142.00</td>\n",
       "    </tr>\n",
       "    <tr>\n",
       "      <th>mean</th>\n",
       "      <td>5.35</td>\n",
       "    </tr>\n",
       "    <tr>\n",
       "      <th>std</th>\n",
       "      <td>1.14</td>\n",
       "    </tr>\n",
       "    <tr>\n",
       "      <th>min</th>\n",
       "      <td>2.90</td>\n",
       "    </tr>\n",
       "    <tr>\n",
       "      <th>25%</th>\n",
       "      <td>4.43</td>\n",
       "    </tr>\n",
       "    <tr>\n",
       "      <th>50%</th>\n",
       "      <td>5.33</td>\n",
       "    </tr>\n",
       "    <tr>\n",
       "      <th>75%</th>\n",
       "      <td>6.16</td>\n",
       "    </tr>\n",
       "    <tr>\n",
       "      <th>max</th>\n",
       "      <td>7.63</td>\n",
       "    </tr>\n",
       "  </tbody>\n",
       "</table>\n",
       "</div>"
      ],
      "text/plain": [
       "       HAPPINESS_SCORE\n",
       "count           142.00\n",
       "mean              5.35\n",
       "std               1.14\n",
       "min               2.90\n",
       "25%               4.43\n",
       "50%               5.33\n",
       "75%               6.16\n",
       "max               7.63"
      ]
     },
     "execution_count": 14,
     "metadata": {},
     "output_type": "execute_result"
    }
   ],
   "source": [
    "# Dataframe of the Happiness Score\n",
    "happiness_score = pd.DataFrame(data[\"HAPPINESS_SCORE\"])\n",
    "happiness_score.describe().round(2)"
   ]
  },
  {
   "cell_type": "code",
   "execution_count": 15,
   "id": "7df2ced2",
   "metadata": {},
   "outputs": [
    {
     "name": "stderr",
     "output_type": "stream",
     "text": [
      "C:\\ProgramData\\Anaconda3\\lib\\site-packages\\seaborn\\distributions.py:2557: FutureWarning:\n",
      "\n",
      "`distplot` is a deprecated function and will be removed in a future version. Please adapt your code to use either `displot` (a figure-level function with similar flexibility) or `histplot` (an axes-level function for histograms).\n",
      "\n",
      "C:\\ProgramData\\Anaconda3\\lib\\site-packages\\seaborn\\_decorators.py:36: FutureWarning:\n",
      "\n",
      "Pass the following variable as a keyword arg: x. From version 0.12, the only valid positional argument will be `data`, and passing other arguments without an explicit keyword will result in an error or misinterpretation.\n",
      "\n"
     ]
    },
    {
     "ename": "ValueError",
     "evalue": "The truth value of a Series is ambiguous. Use a.empty, a.bool(), a.item(), a.any() or a.all().",
     "output_type": "error",
     "traceback": [
      "\u001b[1;31m---------------------------------------------------------------------------\u001b[0m",
      "\u001b[1;31mValueError\u001b[0m                                Traceback (most recent call last)",
      "\u001b[1;32m<ipython-input-15-a5190974cf0e>\u001b[0m in \u001b[0;36m<module>\u001b[1;34m\u001b[0m\n\u001b[0;32m      1\u001b[0m \u001b[0mf\u001b[0m\u001b[1;33m,\u001b[0m\u001b[0maxes\u001b[0m \u001b[1;33m=\u001b[0m \u001b[0mplt\u001b[0m\u001b[1;33m.\u001b[0m\u001b[0msubplots\u001b[0m\u001b[1;33m(\u001b[0m\u001b[1;36m1\u001b[0m\u001b[1;33m,\u001b[0m\u001b[1;36m2\u001b[0m\u001b[1;33m,\u001b[0m\u001b[0mfigsize\u001b[0m\u001b[1;33m=\u001b[0m\u001b[1;33m(\u001b[0m\u001b[1;36m15\u001b[0m\u001b[1;33m,\u001b[0m\u001b[1;36m4\u001b[0m\u001b[1;33m)\u001b[0m\u001b[1;33m)\u001b[0m\u001b[1;33m\u001b[0m\u001b[1;33m\u001b[0m\u001b[0m\n\u001b[0;32m      2\u001b[0m \u001b[0msb\u001b[0m\u001b[1;33m.\u001b[0m\u001b[0mdistplot\u001b[0m\u001b[1;33m(\u001b[0m\u001b[0mhappiness_score\u001b[0m\u001b[1;33m,\u001b[0m\u001b[0mkde\u001b[0m\u001b[1;33m=\u001b[0m\u001b[1;32mTrue\u001b[0m\u001b[1;33m,\u001b[0m\u001b[0mhist\u001b[0m\u001b[1;33m=\u001b[0m\u001b[1;32mTrue\u001b[0m\u001b[1;33m,\u001b[0m\u001b[0mcolor\u001b[0m\u001b[1;33m=\u001b[0m\u001b[1;34m\"g\"\u001b[0m\u001b[1;33m,\u001b[0m\u001b[0max\u001b[0m\u001b[1;33m=\u001b[0m\u001b[0maxes\u001b[0m\u001b[1;33m[\u001b[0m\u001b[1;36m0\u001b[0m\u001b[1;33m]\u001b[0m\u001b[1;33m)\u001b[0m\u001b[1;33m\u001b[0m\u001b[1;33m\u001b[0m\u001b[0m\n\u001b[1;32m----> 3\u001b[1;33m \u001b[0msb\u001b[0m\u001b[1;33m.\u001b[0m\u001b[0mviolinplot\u001b[0m\u001b[1;33m(\u001b[0m\u001b[0mhappiness_score\u001b[0m\u001b[1;33m,\u001b[0m\u001b[0max\u001b[0m\u001b[1;33m=\u001b[0m\u001b[0maxes\u001b[0m\u001b[1;33m[\u001b[0m\u001b[1;36m1\u001b[0m\u001b[1;33m]\u001b[0m\u001b[1;33m,\u001b[0m\u001b[0mcolor\u001b[0m\u001b[1;33m=\u001b[0m\u001b[1;34m\"r\"\u001b[0m\u001b[1;33m)\u001b[0m\u001b[1;33m\u001b[0m\u001b[1;33m\u001b[0m\u001b[0m\n\u001b[0m",
      "\u001b[1;32mC:\\ProgramData\\Anaconda3\\lib\\site-packages\\seaborn\\_decorators.py\u001b[0m in \u001b[0;36minner_f\u001b[1;34m(*args, **kwargs)\u001b[0m\n\u001b[0;32m     44\u001b[0m             )\n\u001b[0;32m     45\u001b[0m         \u001b[0mkwargs\u001b[0m\u001b[1;33m.\u001b[0m\u001b[0mupdate\u001b[0m\u001b[1;33m(\u001b[0m\u001b[1;33m{\u001b[0m\u001b[0mk\u001b[0m\u001b[1;33m:\u001b[0m \u001b[0marg\u001b[0m \u001b[1;32mfor\u001b[0m \u001b[0mk\u001b[0m\u001b[1;33m,\u001b[0m \u001b[0marg\u001b[0m \u001b[1;32min\u001b[0m \u001b[0mzip\u001b[0m\u001b[1;33m(\u001b[0m\u001b[0msig\u001b[0m\u001b[1;33m.\u001b[0m\u001b[0mparameters\u001b[0m\u001b[1;33m,\u001b[0m \u001b[0margs\u001b[0m\u001b[1;33m)\u001b[0m\u001b[1;33m}\u001b[0m\u001b[1;33m)\u001b[0m\u001b[1;33m\u001b[0m\u001b[1;33m\u001b[0m\u001b[0m\n\u001b[1;32m---> 46\u001b[1;33m         \u001b[1;32mreturn\u001b[0m \u001b[0mf\u001b[0m\u001b[1;33m(\u001b[0m\u001b[1;33m**\u001b[0m\u001b[0mkwargs\u001b[0m\u001b[1;33m)\u001b[0m\u001b[1;33m\u001b[0m\u001b[1;33m\u001b[0m\u001b[0m\n\u001b[0m\u001b[0;32m     47\u001b[0m     \u001b[1;32mreturn\u001b[0m \u001b[0minner_f\u001b[0m\u001b[1;33m\u001b[0m\u001b[1;33m\u001b[0m\u001b[0m\n\u001b[0;32m     48\u001b[0m \u001b[1;33m\u001b[0m\u001b[0m\n",
      "\u001b[1;32mC:\\ProgramData\\Anaconda3\\lib\\site-packages\\seaborn\\categorical.py\u001b[0m in \u001b[0;36mviolinplot\u001b[1;34m(x, y, hue, data, order, hue_order, bw, cut, scale, scale_hue, gridsize, width, inner, split, dodge, orient, linewidth, color, palette, saturation, ax, **kwargs)\u001b[0m\n\u001b[0;32m   2395\u001b[0m ):\n\u001b[0;32m   2396\u001b[0m \u001b[1;33m\u001b[0m\u001b[0m\n\u001b[1;32m-> 2397\u001b[1;33m     plotter = _ViolinPlotter(x, y, hue, data, order, hue_order,\n\u001b[0m\u001b[0;32m   2398\u001b[0m                              \u001b[0mbw\u001b[0m\u001b[1;33m,\u001b[0m \u001b[0mcut\u001b[0m\u001b[1;33m,\u001b[0m \u001b[0mscale\u001b[0m\u001b[1;33m,\u001b[0m \u001b[0mscale_hue\u001b[0m\u001b[1;33m,\u001b[0m \u001b[0mgridsize\u001b[0m\u001b[1;33m,\u001b[0m\u001b[1;33m\u001b[0m\u001b[1;33m\u001b[0m\u001b[0m\n\u001b[0;32m   2399\u001b[0m                              \u001b[0mwidth\u001b[0m\u001b[1;33m,\u001b[0m \u001b[0minner\u001b[0m\u001b[1;33m,\u001b[0m \u001b[0msplit\u001b[0m\u001b[1;33m,\u001b[0m \u001b[0mdodge\u001b[0m\u001b[1;33m,\u001b[0m \u001b[0morient\u001b[0m\u001b[1;33m,\u001b[0m \u001b[0mlinewidth\u001b[0m\u001b[1;33m,\u001b[0m\u001b[1;33m\u001b[0m\u001b[1;33m\u001b[0m\u001b[0m\n",
      "\u001b[1;32mC:\\ProgramData\\Anaconda3\\lib\\site-packages\\seaborn\\categorical.py\u001b[0m in \u001b[0;36m__init__\u001b[1;34m(self, x, y, hue, data, order, hue_order, bw, cut, scale, scale_hue, gridsize, width, inner, split, dodge, orient, linewidth, color, palette, saturation)\u001b[0m\n\u001b[0;32m    520\u001b[0m                  color, palette, saturation):\n\u001b[0;32m    521\u001b[0m \u001b[1;33m\u001b[0m\u001b[0m\n\u001b[1;32m--> 522\u001b[1;33m         \u001b[0mself\u001b[0m\u001b[1;33m.\u001b[0m\u001b[0mestablish_variables\u001b[0m\u001b[1;33m(\u001b[0m\u001b[0mx\u001b[0m\u001b[1;33m,\u001b[0m \u001b[0my\u001b[0m\u001b[1;33m,\u001b[0m \u001b[0mhue\u001b[0m\u001b[1;33m,\u001b[0m \u001b[0mdata\u001b[0m\u001b[1;33m,\u001b[0m \u001b[0morient\u001b[0m\u001b[1;33m,\u001b[0m \u001b[0morder\u001b[0m\u001b[1;33m,\u001b[0m \u001b[0mhue_order\u001b[0m\u001b[1;33m)\u001b[0m\u001b[1;33m\u001b[0m\u001b[1;33m\u001b[0m\u001b[0m\n\u001b[0m\u001b[0;32m    523\u001b[0m         \u001b[0mself\u001b[0m\u001b[1;33m.\u001b[0m\u001b[0mestablish_colors\u001b[0m\u001b[1;33m(\u001b[0m\u001b[0mcolor\u001b[0m\u001b[1;33m,\u001b[0m \u001b[0mpalette\u001b[0m\u001b[1;33m,\u001b[0m \u001b[0msaturation\u001b[0m\u001b[1;33m)\u001b[0m\u001b[1;33m\u001b[0m\u001b[1;33m\u001b[0m\u001b[0m\n\u001b[0;32m    524\u001b[0m         \u001b[0mself\u001b[0m\u001b[1;33m.\u001b[0m\u001b[0mestimate_densities\u001b[0m\u001b[1;33m(\u001b[0m\u001b[0mbw\u001b[0m\u001b[1;33m,\u001b[0m \u001b[0mcut\u001b[0m\u001b[1;33m,\u001b[0m \u001b[0mscale\u001b[0m\u001b[1;33m,\u001b[0m \u001b[0mscale_hue\u001b[0m\u001b[1;33m,\u001b[0m \u001b[0mgridsize\u001b[0m\u001b[1;33m)\u001b[0m\u001b[1;33m\u001b[0m\u001b[1;33m\u001b[0m\u001b[0m\n",
      "\u001b[1;32mC:\\ProgramData\\Anaconda3\\lib\\site-packages\\seaborn\\categorical.py\u001b[0m in \u001b[0;36mestablish_variables\u001b[1;34m(self, x, y, hue, data, orient, order, hue_order, units)\u001b[0m\n\u001b[0;32m    154\u001b[0m \u001b[1;33m\u001b[0m\u001b[0m\n\u001b[0;32m    155\u001b[0m             \u001b[1;31m# Figure out the plotting orientation\u001b[0m\u001b[1;33m\u001b[0m\u001b[1;33m\u001b[0m\u001b[1;33m\u001b[0m\u001b[0m\n\u001b[1;32m--> 156\u001b[1;33m             orient = infer_orient(\n\u001b[0m\u001b[0;32m    157\u001b[0m                 \u001b[0mx\u001b[0m\u001b[1;33m,\u001b[0m \u001b[0my\u001b[0m\u001b[1;33m,\u001b[0m \u001b[0morient\u001b[0m\u001b[1;33m,\u001b[0m \u001b[0mrequire_numeric\u001b[0m\u001b[1;33m=\u001b[0m\u001b[0mself\u001b[0m\u001b[1;33m.\u001b[0m\u001b[0mrequire_numeric\u001b[0m\u001b[1;33m\u001b[0m\u001b[1;33m\u001b[0m\u001b[0m\n\u001b[0;32m    158\u001b[0m             )\n",
      "\u001b[1;32mC:\\ProgramData\\Anaconda3\\lib\\site-packages\\seaborn\\_core.py\u001b[0m in \u001b[0;36minfer_orient\u001b[1;34m(x, y, orient, require_numeric)\u001b[0m\n\u001b[0;32m   1302\u001b[0m     \"\"\"\n\u001b[0;32m   1303\u001b[0m \u001b[1;33m\u001b[0m\u001b[0m\n\u001b[1;32m-> 1304\u001b[1;33m     \u001b[0mx_type\u001b[0m \u001b[1;33m=\u001b[0m \u001b[1;32mNone\u001b[0m \u001b[1;32mif\u001b[0m \u001b[0mx\u001b[0m \u001b[1;32mis\u001b[0m \u001b[1;32mNone\u001b[0m \u001b[1;32melse\u001b[0m \u001b[0mvariable_type\u001b[0m\u001b[1;33m(\u001b[0m\u001b[0mx\u001b[0m\u001b[1;33m)\u001b[0m\u001b[1;33m\u001b[0m\u001b[1;33m\u001b[0m\u001b[0m\n\u001b[0m\u001b[0;32m   1305\u001b[0m     \u001b[0my_type\u001b[0m \u001b[1;33m=\u001b[0m \u001b[1;32mNone\u001b[0m \u001b[1;32mif\u001b[0m \u001b[0my\u001b[0m \u001b[1;32mis\u001b[0m \u001b[1;32mNone\u001b[0m \u001b[1;32melse\u001b[0m \u001b[0mvariable_type\u001b[0m\u001b[1;33m(\u001b[0m\u001b[0my\u001b[0m\u001b[1;33m)\u001b[0m\u001b[1;33m\u001b[0m\u001b[1;33m\u001b[0m\u001b[0m\n\u001b[0;32m   1306\u001b[0m \u001b[1;33m\u001b[0m\u001b[0m\n",
      "\u001b[1;32mC:\\ProgramData\\Anaconda3\\lib\\site-packages\\seaborn\\_core.py\u001b[0m in \u001b[0;36mvariable_type\u001b[1;34m(vector, boolean_type)\u001b[0m\n\u001b[0;32m   1220\u001b[0m \u001b[1;33m\u001b[0m\u001b[0m\n\u001b[0;32m   1221\u001b[0m     \u001b[1;31m# Special-case all-na data, which is always \"numeric\"\u001b[0m\u001b[1;33m\u001b[0m\u001b[1;33m\u001b[0m\u001b[1;33m\u001b[0m\u001b[0m\n\u001b[1;32m-> 1222\u001b[1;33m     \u001b[1;32mif\u001b[0m \u001b[0mpd\u001b[0m\u001b[1;33m.\u001b[0m\u001b[0misna\u001b[0m\u001b[1;33m(\u001b[0m\u001b[0mvector\u001b[0m\u001b[1;33m)\u001b[0m\u001b[1;33m.\u001b[0m\u001b[0mall\u001b[0m\u001b[1;33m(\u001b[0m\u001b[1;33m)\u001b[0m\u001b[1;33m:\u001b[0m\u001b[1;33m\u001b[0m\u001b[1;33m\u001b[0m\u001b[0m\n\u001b[0m\u001b[0;32m   1223\u001b[0m         \u001b[1;32mreturn\u001b[0m \u001b[1;34m\"numeric\"\u001b[0m\u001b[1;33m\u001b[0m\u001b[1;33m\u001b[0m\u001b[0m\n\u001b[0;32m   1224\u001b[0m \u001b[1;33m\u001b[0m\u001b[0m\n",
      "\u001b[1;32mC:\\ProgramData\\Anaconda3\\lib\\site-packages\\pandas\\core\\generic.py\u001b[0m in \u001b[0;36m__nonzero__\u001b[1;34m(self)\u001b[0m\n\u001b[0;32m   1440\u001b[0m     \u001b[1;33m@\u001b[0m\u001b[0mfinal\u001b[0m\u001b[1;33m\u001b[0m\u001b[1;33m\u001b[0m\u001b[0m\n\u001b[0;32m   1441\u001b[0m     \u001b[1;32mdef\u001b[0m \u001b[0m__nonzero__\u001b[0m\u001b[1;33m(\u001b[0m\u001b[0mself\u001b[0m\u001b[1;33m)\u001b[0m\u001b[1;33m:\u001b[0m\u001b[1;33m\u001b[0m\u001b[1;33m\u001b[0m\u001b[0m\n\u001b[1;32m-> 1442\u001b[1;33m         raise ValueError(\n\u001b[0m\u001b[0;32m   1443\u001b[0m             \u001b[1;34mf\"The truth value of a {type(self).__name__} is ambiguous. \"\u001b[0m\u001b[1;33m\u001b[0m\u001b[1;33m\u001b[0m\u001b[0m\n\u001b[0;32m   1444\u001b[0m             \u001b[1;34m\"Use a.empty, a.bool(), a.item(), a.any() or a.all().\"\u001b[0m\u001b[1;33m\u001b[0m\u001b[1;33m\u001b[0m\u001b[0m\n",
      "\u001b[1;31mValueError\u001b[0m: The truth value of a Series is ambiguous. Use a.empty, a.bool(), a.item(), a.any() or a.all()."
     ]
    },
    {
     "data": {
      "image/png": "[encoded data removed]",
      "text/plain": [
       "<Figure size 1080x288 with 2 Axes>"
      ]
     },
     "metadata": {},
     "output_type": "display_data"
    }
   ],
   "source": [
    "f,axes = plt.subplots(1,2,figsize=(15,4))\n",
    "sb.distplot(happiness_score,kde=True,hist=True,color=\"g\",ax=axes[0])\n",
    "sb.violinplot(happiness_score,ax=axes[1],color=\"r\")"
   ]
  },
  {
   "cell_type": "code",
   "execution_count": 16,
   "id": "48f73f06",
   "metadata": {},
   "outputs": [],
   "source": [
    "# Add our Happiness Category into the Happiness_Score dataframe\n",
    "happiness=[]\n",
    "for i in happiness_score[\"HAPPINESS_SCORE\"]:\n",
    "    if i<4:\n",
    "        happiness.append(\"UNHAPPY\")\n",
    "    elif 4<=i<=6:\n",
    "        happiness.append(\"NORMAL\")\n",
    "    else:\n",
    "        happiness.append(\"HAPPY\")\n",
    "\n",
    "# Join our Hapiness_Score dataframe into the main dataframe\n",
    "pred_happiness = pd.DataFrame(happiness,columns=[\"PREDICTED_HAPPINESS\"])\n",
    "pred_happiness = pd.DataFrame(pred_happiness[\"PREDICTED_HAPPINESS\"].astype('category'))\n",
    "data = pd.concat([data,pred_happiness],axis=1)"
   ]
  },
  {
   "cell_type": "code",
   "execution_count": 17,
   "id": "992b914a",
   "metadata": {},
   "outputs": [
    {
     "data": {
      "text/html": [
       "<div>\n",
       "<style scoped>\n",
       "    .dataframe tbody tr th:only-of-type {\n",
       "        vertical-align: middle;\n",
       "    }\n",
       "\n",
       "    .dataframe tbody tr th {\n",
       "        vertical-align: top;\n",
       "    }\n",
       "\n",
       "    .dataframe thead th {\n",
       "        text-align: right;\n",
       "    }\n",
       "</style>\n",
       "<table border=\"1\" class=\"dataframe\">\n",
       "  <thead>\n",
       "    <tr style=\"text-align: right;\">\n",
       "      <th></th>\n",
       "      <th>COUNTRY</th>\n",
       "      <th>HAPPINESS_SCORE</th>\n",
       "      <th>LOG_OF_GDP_PER_PERSON</th>\n",
       "      <th>GDP_PER_PERSON</th>\n",
       "      <th>HEALTHY_LIFE_EXPECTANCY</th>\n",
       "      <th>SOCIAL_SUPPORT</th>\n",
       "      <th>FREEDOM</th>\n",
       "      <th>GENEROSITY</th>\n",
       "      <th>PERCEPTIONS_OF_CORRUPTION</th>\n",
       "      <th>PREDICTED_HAPPINESS</th>\n",
       "    </tr>\n",
       "  </thead>\n",
       "  <tbody>\n",
       "    <tr>\n",
       "      <th>0</th>\n",
       "      <td>Afghanistan</td>\n",
       "      <td>3.632</td>\n",
       "      <td>7.462610</td>\n",
       "      <td>1741.687500</td>\n",
       "      <td>52.013329</td>\n",
       "      <td>0.525075</td>\n",
       "      <td>0.445294</td>\n",
       "      <td>0.179054</td>\n",
       "      <td>0.879705</td>\n",
       "      <td>UNHAPPY</td>\n",
       "    </tr>\n",
       "    <tr>\n",
       "      <th>1</th>\n",
       "      <td>Albania</td>\n",
       "      <td>4.586</td>\n",
       "      <td>9.338126</td>\n",
       "      <td>11363.095700</td>\n",
       "      <td>68.871552</td>\n",
       "      <td>0.639576</td>\n",
       "      <td>0.726340</td>\n",
       "      <td>0.259975</td>\n",
       "      <td>0.886778</td>\n",
       "      <td>NORMAL</td>\n",
       "    </tr>\n",
       "    <tr>\n",
       "      <th>2</th>\n",
       "      <td>Algeria</td>\n",
       "      <td>5.295</td>\n",
       "      <td>9.540703</td>\n",
       "      <td>13914.723630</td>\n",
       "      <td>65.604858</td>\n",
       "      <td>0.776977</td>\n",
       "      <td>0.439177</td>\n",
       "      <td>0.128988</td>\n",
       "      <td>0.698343</td>\n",
       "      <td>NORMAL</td>\n",
       "    </tr>\n",
       "    <tr>\n",
       "      <th>3</th>\n",
       "      <td>Angola</td>\n",
       "      <td>3.795</td>\n",
       "      <td>8.741957</td>\n",
       "      <td>6260.132813</td>\n",
       "      <td>52.460709</td>\n",
       "      <td>0.765275</td>\n",
       "      <td>0.374173</td>\n",
       "      <td>0.106829</td>\n",
       "      <td>0.833540</td>\n",
       "      <td>UNHAPPY</td>\n",
       "    </tr>\n",
       "    <tr>\n",
       "      <th>4</th>\n",
       "      <td>Argentina</td>\n",
       "      <td>6.388</td>\n",
       "      <td>9.842001</td>\n",
       "      <td>18807.310550</td>\n",
       "      <td>67.398483</td>\n",
       "      <td>0.905565</td>\n",
       "      <td>0.853390</td>\n",
       "      <td>0.163174</td>\n",
       "      <td>0.847882</td>\n",
       "      <td>HAPPY</td>\n",
       "    </tr>\n",
       "  </tbody>\n",
       "</table>\n",
       "</div>"
      ],
      "text/plain": [
       "       COUNTRY  HAPPINESS_SCORE  LOG_OF_GDP_PER_PERSON  GDP_PER_PERSON  \\\n",
       "0  Afghanistan            3.632               7.462610     1741.687500   \n",
       "1      Albania            4.586               9.338126    11363.095700   \n",
       "2      Algeria            5.295               9.540703    13914.723630   \n",
       "3       Angola            3.795               8.741957     6260.132813   \n",
       "4    Argentina            6.388               9.842001    18807.310550   \n",
       "\n",
       "   HEALTHY_LIFE_EXPECTANCY  SOCIAL_SUPPORT   FREEDOM  GENEROSITY  \\\n",
       "0                52.013329        0.525075  0.445294    0.179054   \n",
       "1                68.871552        0.639576  0.726340    0.259975   \n",
       "2                65.604858        0.776977  0.439177    0.128988   \n",
       "3                52.460709        0.765275  0.374173    0.106829   \n",
       "4                67.398483        0.905565  0.853390    0.163174   \n",
       "\n",
       "   PERCEPTIONS_OF_CORRUPTION PREDICTED_HAPPINESS  \n",
       "0                   0.879705             UNHAPPY  \n",
       "1                   0.886778              NORMAL  \n",
       "2                   0.698343              NORMAL  \n",
       "3                   0.833540             UNHAPPY  \n",
       "4                   0.847882               HAPPY  "
      ]
     },
     "execution_count": 17,
     "metadata": {},
     "output_type": "execute_result"
    }
   ],
   "source": [
    "# Remove any duplicate columns (if any)\n",
    "data = data.loc[:,~data.columns.duplicated()]\n",
    "data.head()"
   ]
  },
  {
   "cell_type": "code",
   "execution_count": 18,
   "id": "4a73d6ba",
   "metadata": {},
   "outputs": [
    {
     "data": {
      "text/plain": [
       "NORMAL     85\n",
       "HAPPY      40\n",
       "UNHAPPY    17\n",
       "Name: PREDICTED_HAPPINESS, dtype: int64"
      ]
     },
     "execution_count": 18,
     "metadata": {},
     "output_type": "execute_result"
    }
   ],
   "source": [
    "data[\"PREDICTED_HAPPINESS\"].value_counts()"
   ]
  },
  {
   "cell_type": "code",
   "execution_count": 19,
   "id": "70a0f6db",
   "metadata": {},
   "outputs": [
    {
     "name": "stderr",
     "output_type": "stream",
     "text": [
      "C:\\ProgramData\\Anaconda3\\lib\\site-packages\\seaborn\\_decorators.py:36: FutureWarning:\n",
      "\n",
      "Pass the following variable as a keyword arg: x. From version 0.12, the only valid positional argument will be `data`, and passing other arguments without an explicit keyword will result in an error or misinterpretation.\n",
      "\n"
     ]
    },
    {
     "data": {
      "text/plain": [
       "Text(0, 0.5, 'Number of Countries')"
      ]
     },
     "execution_count": 19,
     "metadata": {},
     "output_type": "execute_result"
    },
    {
     "data": {
      "image/png": "[encoded data removed]",
      "text/plain": [
       "<Figure size 360x288 with 1 Axes>"
      ]
     },
     "metadata": {},
     "output_type": "display_data"
    }
   ],
   "source": [
    "f, axes = plt.subplots(1, 1, figsize=(5, 4))\n",
    "sb.countplot(data[\"PREDICTED_HAPPINESS\"])\n",
    "plt.xlabel(\"Predicted Happiness\")\n",
    "plt.ylabel(\"Number of Countries\")"
   ]
  },
  {
   "cell_type": "code",
   "execution_count": 20,
   "id": "3175cd98",
   "metadata": {},
   "outputs": [
    {
     "data": {
      "image/png": "[encoded data removed]",
      "text/plain": [
       "<Figure size 1296x1728 with 6 Axes>"
      ]
     },
     "metadata": {},
     "output_type": "display_data"
    }
   ],
   "source": [
    "# Swarm plot for all the variables\n",
    "predictors=[\"GDP_PER_PERSON\",\"HEALTHY_LIFE_EXPECTANCY\",\"SOCIAL_SUPPORT\",\"FREEDOM\",\"GENEROSITY\",\"PERCEPTIONS_OF_CORRUPTION\"]\n",
    "f,axes=plt.subplots(6,1,figsize=(18,24))\n",
    "count=0\n",
    "for var in predictors:\n",
    "    sb.swarmplot(x=var,y=\"PREDICTED_HAPPINESS\",data=data,orient=\"h\",ax=axes[count])\n",
    "    count+=1"
   ]
  },
  {
   "cell_type": "code",
   "execution_count": 21,
   "id": "5585ecc3",
   "metadata": {},
   "outputs": [
    {
     "name": "stderr",
     "output_type": "stream",
     "text": [
      "<ipython-input-21-a9a282961618>:11: DataConversionWarning:\n",
      "\n",
      "A column-vector y was passed when a 1d array was expected. Please change the shape of y to (n_samples,), for example using ravel().\n",
      "\n"
     ]
    },
    {
     "name": "stdout",
     "output_type": "stream",
     "text": [
      "Goodness of fit by using Random Forest Classifier:\n",
      "\tThe prediction accuracy on Train set:  0.9\n",
      "\tThe prediction accuracy on Test set:  0.72\n",
      "\n"
     ]
    }
   ],
   "source": [
    "# Recall the World Happiness Dataset\n",
    "predictors=[\"GDP_PER_PERSON\",\"HEALTHY_LIFE_EXPECTANCY\",\"SOCIAL_SUPPORT\",\"GENEROSITY\"]\n",
    "x=pd.DataFrame(data[predictors])\n",
    "y=pd.DataFrame(data[\"PREDICTED_HAPPINESS\"])\n",
    "\n",
    "# Split the Dataset into Train and Test with a test size of 0.25\n",
    "x_train,x_test,y_train,y_test=train_test_split(x,y,test_size=0.25, random_state = 42)\n",
    "\n",
    "# Create Random Forest Classifier\n",
    "forest = RandomForestClassifier(n_estimators = 80, random_state = 42, max_depth = 10, min_samples_split = 0.1, min_samples_leaf = 0.001)\n",
    "forest.fit(x_train,y_train)\n",
    "\n",
    "# Predict Happiness using Random Forest Classifier\n",
    "y_train_pred_forest=forest.predict(x_train)\n",
    "y_test_pred_forest=forest.predict(x_test)\n",
    "\n",
    "# Check the Goodness of Fit (by Random Forest Classifier)\n",
    "print(\"Goodness of fit by using Random Forest Classifier:\")\n",
    "print(\"\\tThe prediction accuracy on Train set: \",round(forest.score(x_train,y_train),2))\n",
    "print(\"\\tThe prediction accuracy on Test set: \",round(forest.score(x_test,y_test), 2))\n",
    "print()"
   ]
  },
  {
   "cell_type": "code",
   "execution_count": 22,
   "id": "8ec036c5",
   "metadata": {},
   "outputs": [
    {
     "name": "stdout",
     "output_type": "stream",
     "text": [
      "Training set R^2: 0.7720513073696835\n",
      "Test set R^2: 0.7384119055826679\n"
     ]
    }
   ],
   "source": [
    "# Prepare X_train, X_test, y_train, y_test\n",
    "X = data[[\"LOG_OF_GDP_PER_PERSON\", \"HEALTHY_LIFE_EXPECTANCY\", \"SOCIAL_SUPPORT\", \"GENEROSITY\"]]\n",
    "y = data[\"HAPPINESS_SCORE\"]\n",
    "scaler = StandardScaler()\n",
    "scaler.fit(X)\n",
    "X_standard = scaler.transform(X)\n",
    "\n",
    "X_train, X_test, y_train, y_test = train_test_split(X_standard, y, test_size=0.2, random_state=10)\n",
    "\n",
    "linreg = LinearRegression()\n",
    "linreg.fit(X_train, y_train)\n",
    "print(\"Training set R^2:\", linreg.score(X_train, y_train))\n",
    "print(\"Test set R^2:\", linreg.score(X_test, y_test))"
   ]
  },
  {
   "cell_type": "code",
   "execution_count": null,
   "id": "78ce3e10",
   "metadata": {},
   "outputs": [
    {
     "name": "stdout",
     "output_type": "stream",
     "text": [
      "\n",
      "Enter your Country Name: india\n",
      "--------------------------------\n",
      "Let us analyse the feasabiliy [Happiness Category/Score] of india by entering some important features: \n",
      "\n",
      "--------------------------------\n",
      "\n",
      "Reference: Average GDP Per Capita of all Countries: USD 17000, Singapore's GDP Per Capita: USD 81000\n",
      "Enter the Average GDP Per Capita for your Country (in USD): rupees\n",
      "Please enter a valid input.\n",
      "\n"
     ]
    }
   ],
   "source": [
    "print()\n",
    "\n",
    "name = input(\"Enter your Country Name: \")\n",
    "\n",
    "print(\"--------------------------------\")\n",
    "\n",
    "print(\"Let us analyse the feasabiliy [Happiness Category/Score] of\", name, \"by entering some important features: \")\n",
    "\n",
    "print()\n",
    "print(\"--------------------------------\")\n",
    "print()\n",
    "\n",
    "print(\"Reference: Average GDP Per Capita of all Countries: USD 17000, Singapore's GDP Per Capita: USD 81000\")\n",
    "while True:\n",
    "    try:\n",
    "        gdp = float(input(\"Enter the Average GDP Per Capita for your Country (in USD): \"))\n",
    "        break\n",
    "    except ValueError:\n",
    "        print(\"Please enter a valid input.\")\n",
    "        print()\n",
    "\n",
    "print()\n",
    "print(\"--------------------------------\")\n",
    "print()\n",
    "\n",
    "while True:\n",
    "    try:\n",
    "        life_expectancy = float(input(\"Enter the Average Life Expectancy of your Citizens: (Age) \"))\n",
    "        break\n",
    "    except ValueError:\n",
    "        print(\"Please enter a valid input.\")\n",
    "        print()\n",
    "\n",
    "print()\n",
    "print(\"--------------------------------\")\n",
    "print()\n",
    "\n",
    "print(\"Reference Question: Social Support - If you were in trouble, do you have relatives or friends you can count on to help you whenever you need them, or not?\")\n",
    "\n",
    "while True:\n",
    "    try:\n",
    "        social_support=float(input(\"Enter the Social Support Index (Choose between 0 and 1, 0 - Lowest : 1 - Highest): \"))\n",
    "        break\n",
    "    except ValueError:\n",
    "        print(\"Please enter a valid input.\")\n",
    "        print()\n",
    "\n",
    "print()\n",
    "print(\"--------------------------------\")\n",
    "print()\n",
    "\n",
    "print(\"Reference Question: Generosity - Have you donated money to a charity in the past month?\")\n",
    "\n",
    "while True:\n",
    "    try:\n",
    "        generosity =float(input(\"How generous are people in your Country? (Choose between 0 and 1, 0 - Lowest : 1 - Highest): \"))\n",
    "        break\n",
    "    except ValueError:\n",
    "        print(\"Please enter a valid input.\")\n",
    "        print()\n",
    "\n",
    "print()\n",
    "print(\"--------------------------------\")\n",
    "print()\n",
    "# Create a new dataframe for user input data\n",
    "new_country = {\"GDP_PER_PERSON\": [gdp] ,\"HEALTHY_LIFE_EXPECTANCY\": [life_expectancy] ,\"SOCIAL_SUPPORT\": [social_support] \\\n",
    "              ,\"GENEROSITY\": [generosity]}\n",
    "new_country = pd.DataFrame(new_country)\n",
    "\n",
    "# Predict happiness category using user input data\n",
    "y_prob = forest.predict_proba(new_country)\n",
    "\n",
    "# Extract different probabilites into variables\n",
    "y_prob1 = pd.DataFrame(list(y_prob[:,0])[0],columns=[\"Probability Happy\"],index=new_country.index)\n",
    "y_prob2 = pd.DataFrame(list(y_prob[:,1])[0],columns=[\"Probability Normal\"],index=new_country.index)\n",
    "y_prob3 = pd.DataFrame(list(y_prob[:,2])[0],columns=[\"Probability Unhappy\"],index=new_country.index)\n",
    "\n",
    "\n",
    "# Create a dataframe with predicted probabilities\n",
    "data_comb = pd.concat([new_country, y_prob1, y_prob2, y_prob3], axis=1)\n",
    "\n",
    "# Extract the probabilities\n",
    "happy = list(y_prob[:,0])[0]\n",
    "normal = list(y_prob[:,1])[0]\n",
    "unhappy = list(y_prob[:,2])[0]\n",
    "\n",
    "print()\n",
    "\n",
    "\n",
    "def find_nearest_country(gdp, hle, scl):\n",
    "    def calculate_distance(x, gdp, hle, scl):\n",
    "        gdp_dif = np.log((x[\"LOG_OF_GDP_PER_PERSON\"] - gdp)**2)\n",
    "        hle_dif = np.log((x[\"HEALTHY_LIFE_EXPECTANCY\"] - hle)**2)\n",
    "        scl_dif = np.log((x[\"SOCIAL_SUPPORT\"] - scl)**2)\n",
    "        return gdp_dif + hle_dif + scl_dif\n",
    "      # Extract necessary data to work with graphs and training model\n",
    "    data1 = data[[\"COUNTRY\", \"LOG_OF_GDP_PER_PERSON\", \"HEALTHY_LIFE_EXPECTANCY\",\"SOCIAL_SUPPORT\"]]\n",
    "    data1['distances'] = data1.apply(lambda x: calculate_distance(x, gdp, hle, scl), axis=1)\n",
    "    index = data1['distances'].values.argmin()\n",
    "    found = data1.iloc[index, :]\n",
    "    min_distance = data1['distances'].min()\n",
    "    \n",
    "    \n",
    "    # plot the graph to see how it is different to our data\n",
    "    # whole data\n",
    "    text1 = data[['COUNTRY','GDP_PER_PERSON']].apply(lambda x: \"{}, {:.3f}\".format(x[0], x[1]), axis=1)\n",
    "    trace0 = go.Scatter(\n",
    "        x = data1['SOCIAL_SUPPORT'],\n",
    "        y = data1['HEALTHY_LIFE_EXPECTANCY'],\n",
    "        text = text1,\n",
    "        mode='markers',\n",
    "        marker=dict(\n",
    "            size = data['GDP_PER_PERSON'].apply(lambda x: x**0.4)\n",
    "        ),\n",
    "        showlegend=False\n",
    "    )\n",
    "    # Your country\n",
    "    trace1 = go.Scatter(\n",
    "        x = [scl],\n",
    "        y = [hle],\n",
    "        text = \"Your country\",\n",
    "        mode = 'markers',\n",
    "        marker = dict (\n",
    "            size = [gdp**0.4],\n",
    "            color='rgb(255, 0, 0)'\n",
    "        ),\n",
    "          showlegend=False\n",
    "    )\n",
    "    \n",
    "    # Nearest Country to your country\n",
    "    trace2 = go.Scatter(\n",
    "        \n",
    "        x = [found['SOCIAL_SUPPORT']],\n",
    "        y = [found['HEALTHY_LIFE_EXPECTANCY']],\n",
    "        text = found['COUNTRY'],\n",
    "        mode='markers',\n",
    "        marker=dict(\n",
    "            size = [np.exp(found['LOG_OF_GDP_PER_PERSON'])**0.4],\n",
    "            color = 'rgb(255, 255, 0)'\n",
    "        ),\n",
    "        showlegend=False\n",
    "    )\n",
    "    \n",
    "    # layout\n",
    "    layout = go.Layout(\n",
    "    title=go.layout.Title(\n",
    "        text='Find your country',\n",
    "        xref='paper',\n",
    "        x=0\n",
    "    ),\n",
    "    xaxis=go.layout.XAxis(\n",
    "        title=go.layout.xaxis.Title(\n",
    "            text='Social Support',\n",
    "            font=dict(\n",
    "                family='Courier New, monospace',\n",
    "                size=18,\n",
    "                color='#7f7f7f'\n",
    "            )\n",
    "                    )\n",
    "    ),\n",
    "    yaxis=go.layout.YAxis(\n",
    "        title=go.layout.yaxis.Title(\n",
    "            text='Healthy Life Expectancy',\n",
    "            font=dict(\n",
    "                family='Courier New, monospace',\n",
    "                size=18,\n",
    "                color='#7f7f7f'\n",
    "            )\n",
    "        )\n",
    "    )\n",
    ")\n",
    "    \n",
    "    graph = [trace0, trace1, trace2]\n",
    "    fig = go.Figure(data=graph, layout=layout)\n",
    "    py.iplot(fig, filename='abc')\n",
    "    \n",
    "    print()\n",
    "    print(\"--------------------------------\")\n",
    "    print()\n",
    "    print(\"Legend:\")\n",
    "    print('Red:    Your Country (Virtual Country)')\n",
    "    print('Yellow: The Country most similar to your Country (Actual Country)')\n",
    "    print()\n",
    "    print(\"--------------------------------\")\n",
    "    print()\n",
    "\n",
    "    return found, min_distance\n",
    "def program():\n",
    "    hle = life_expectancy       # HEALTHY_LIFE_EXPECTANCY\n",
    "    scl = social_support       # SOCIAL_SUPPORT\n",
    "    choice = 0\n",
    "\n",
    "    # Find country on the plot\n",
    "    found_data, min_distance = find_nearest_country(gdp, hle, scl)\n",
    "    if min_distance >= 30:\n",
    "        print(min_distance)\n",
    "        print(\"Your inputs seem a little bit strange. You may want to change them.\")\n",
    "    else:\n",
    "        print()\n",
    "        print(\"--------------------------------\")\n",
    "        print()\n",
    "        print(\"{} is the country that has the most similar features to yours\".format(found_data[0]))\n",
    "        print()\n",
    "        print(\"--------------------------------\")\n",
    "        print()\n",
    "\n",
    "\n",
    "# Select the highest probability\n",
    "if (normal > happy and normal > unhappy):\n",
    "    print(\"Your Country can be better! We can say that the citizens of\", name, \\\n",
    "          \"will be LIKELY HAPPY / NORMAL with a probability of\", round(normal*100, 2), \"%\")\n",
    "elif (happy > normal and happy > unhappy):\n",
    "    print(\"Congrats! We can say that the citizens of\", name, \"will be HAPPY with a probability of\", round(happy*100, 2), \"%\")\n",
    "else:\n",
    "    print(\"Oh No! We can say that the citizens of\", name, \"will be UNHAPPY with a probability of\", round(unhappy*100, 2), \"%\")\n",
    "    \n",
    "print()\n",
    "print(\"--------------------------------\")\n",
    "print()\n",
    "\n",
    "program()"
   ]
  },
  {
   "cell_type": "code",
   "execution_count": null,
   "id": "fe318fe9",
   "metadata": {},
   "outputs": [],
   "source": [
    "data = pd.read_excel('data/data.xls', sheet_name = 'Table2.1')\n",
    "\n",
    "clean_data = data.copy()\n",
    "\n",
    "# Rename the Country Column\n",
    "clean_data.rename(columns = {'Country name': 'Country'}, inplace = True)\n",
    "\n",
    "# Convert all Variable Names to UPPERCASE\n",
    "clean_data.columns = clean_data.columns.str.upper()\n",
    "\n",
    "# Remove all spaces and dots from Variable Names\n",
    "clean_data.columns = clean_data.columns.str.replace(\".\",\"\")\n",
    "clean_data.columns = clean_data.columns.str.replace(\" \",\"_\")\n",
    "clean_data.replace(' ', '_', regex=True)\n",
    "\n",
    "clean_data.sample(n = 10)\n",
    "\n",
    "# Set index of the dataframe to Country\n",
    "clean_data = clean_data.set_index('COUNTRY')\n",
    "\n",
    "# Select Singapore, United States and Canada \n",
    "clean_data = clean_data.loc[[\"Singapore\", \"United States\", \"Canada\"]]\n",
    "\n",
    "# Select the required variables\n",
    "sg_data = clean_data[['YEAR', 'DEMOCRATIC_QUALITY', 'PERCEPTIONS_OF_CORRUPTION', 'LIFE_LADDER', 'SOCIAL_SUPPORT']]\n",
    "\n",
    "# Removing NULL values\n",
    "sg_data = sg_data[pd.notnull(sg_data['PERCEPTIONS_OF_CORRUPTION'])]\n",
    "sg_data = sg_data[pd.notnull(sg_data['DEMOCRATIC_QUALITY'])]\n",
    "sg_data = sg_data[pd.notnull(sg_data['SOCIAL_SUPPORT'])]"
   ]
  },
  {
   "cell_type": "code",
   "execution_count": null,
   "id": "d7fe1b4d",
   "metadata": {},
   "outputs": [],
   "source": []
  }
 ],
 "metadata": {
  "kernelspec": {
   "display_name": "Python 3",
   "language": "python",
   "name": "python3"
  },
  "language_info": {
   "codemirror_mode": {
    "name": "ipython",
    "version": 3
   },
   "file_extension": ".py",
   "mimetype": "text/x-python",
   "name": "python",
   "nbconvert_exporter": "python",
   "pygments_lexer": "ipython3",
   "version": "3.8.8"
  }
 },
 "nbformat": 4,
 "nbformat_minor": 5
}
